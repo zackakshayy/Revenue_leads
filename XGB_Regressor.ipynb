{
 "cells": [
  {
   "cell_type": "code",
   "execution_count": 1,
   "id": "0f665a19",
   "metadata": {},
   "outputs": [],
   "source": [
    "from xgboost import XGBRegressor\n",
    "from sklearn.datasets import load_boston\n",
    "from sklearn.model_selection import train_test_split\n",
    "from sklearn.model_selection import cross_val_score, KFold\n",
    "from sklearn.metrics import mean_squared_error\n",
    "import matplotlib.pyplot as plt \n",
    "import numpy as np\n",
    "import pandas as pd\n",
    "import warnings\n",
    "warnings.filterwarnings('ignore')"
   ]
  },
  {
   "cell_type": "code",
   "execution_count": 2,
   "id": "e76cba9d",
   "metadata": {},
   "outputs": [
    {
     "data": {
      "text/html": [
       "<div>\n",
       "<style scoped>\n",
       "    .dataframe tbody tr th:only-of-type {\n",
       "        vertical-align: middle;\n",
       "    }\n",
       "\n",
       "    .dataframe tbody tr th {\n",
       "        vertical-align: top;\n",
       "    }\n",
       "\n",
       "    .dataframe thead th {\n",
       "        text-align: right;\n",
       "    }\n",
       "</style>\n",
       "<table border=\"1\" class=\"dataframe\">\n",
       "  <thead>\n",
       "    <tr style=\"text-align: right;\">\n",
       "      <th></th>\n",
       "      <th>Unnamed: 0</th>\n",
       "      <th>advertiser_id</th>\n",
       "      <th>assigned</th>\n",
       "      <th>date_assignment_starts</th>\n",
       "      <th>date_assignment_ends</th>\n",
       "      <th>first_revenue_date</th>\n",
       "      <th>date_created</th>\n",
       "      <th>age</th>\n",
       "      <th>assign_days</th>\n",
       "      <th>revenue</th>\n",
       "    </tr>\n",
       "  </thead>\n",
       "  <tbody>\n",
       "    <tr>\n",
       "      <th>0</th>\n",
       "      <td>0</td>\n",
       "      <td>485</td>\n",
       "      <td>1</td>\n",
       "      <td>2017-02-01 00:00:00.000000</td>\n",
       "      <td>2017-06-19 12:12:37.888680</td>\n",
       "      <td>NaN</td>\n",
       "      <td>2006-07-14</td>\n",
       "      <td>3855</td>\n",
       "      <td>138</td>\n",
       "      <td>NaN</td>\n",
       "    </tr>\n",
       "    <tr>\n",
       "      <th>1</th>\n",
       "      <td>1</td>\n",
       "      <td>598</td>\n",
       "      <td>1</td>\n",
       "      <td>2017-02-01 00:00:00.000000</td>\n",
       "      <td>2017-06-19 12:12:37.888680</td>\n",
       "      <td>NaN</td>\n",
       "      <td>2006-08-02</td>\n",
       "      <td>3836</td>\n",
       "      <td>138</td>\n",
       "      <td>NaN</td>\n",
       "    </tr>\n",
       "    <tr>\n",
       "      <th>2</th>\n",
       "      <td>2</td>\n",
       "      <td>673</td>\n",
       "      <td>1</td>\n",
       "      <td>2017-02-01 00:00:00.000000</td>\n",
       "      <td>2017-04-28 15:36:30.000000</td>\n",
       "      <td>NaN</td>\n",
       "      <td>2006-08-17</td>\n",
       "      <td>3821</td>\n",
       "      <td>86</td>\n",
       "      <td>NaN</td>\n",
       "    </tr>\n",
       "    <tr>\n",
       "      <th>3</th>\n",
       "      <td>3</td>\n",
       "      <td>813</td>\n",
       "      <td>1</td>\n",
       "      <td>2017-02-01 00:00:00.000000</td>\n",
       "      <td>2017-06-19 12:12:37.888680</td>\n",
       "      <td>NaN</td>\n",
       "      <td>2006-09-12</td>\n",
       "      <td>3795</td>\n",
       "      <td>138</td>\n",
       "      <td>NaN</td>\n",
       "    </tr>\n",
       "    <tr>\n",
       "      <th>4</th>\n",
       "      <td>4</td>\n",
       "      <td>1132</td>\n",
       "      <td>1</td>\n",
       "      <td>2017-02-01 00:00:00.000000</td>\n",
       "      <td>2017-06-19 12:12:37.888680</td>\n",
       "      <td>NaN</td>\n",
       "      <td>2006-11-02</td>\n",
       "      <td>3744</td>\n",
       "      <td>138</td>\n",
       "      <td>NaN</td>\n",
       "    </tr>\n",
       "  </tbody>\n",
       "</table>\n",
       "</div>"
      ],
      "text/plain": [
       "   Unnamed: 0  advertiser_id  assigned      date_assignment_starts  \\\n",
       "0           0            485         1  2017-02-01 00:00:00.000000   \n",
       "1           1            598         1  2017-02-01 00:00:00.000000   \n",
       "2           2            673         1  2017-02-01 00:00:00.000000   \n",
       "3           3            813         1  2017-02-01 00:00:00.000000   \n",
       "4           4           1132         1  2017-02-01 00:00:00.000000   \n",
       "\n",
       "         date_assignment_ends first_revenue_date date_created   age  \\\n",
       "0  2017-06-19 12:12:37.888680                NaN   2006-07-14  3855   \n",
       "1  2017-06-19 12:12:37.888680                NaN   2006-08-02  3836   \n",
       "2  2017-04-28 15:36:30.000000                NaN   2006-08-17  3821   \n",
       "3  2017-06-19 12:12:37.888680                NaN   2006-09-12  3795   \n",
       "4  2017-06-19 12:12:37.888680                NaN   2006-11-02  3744   \n",
       "\n",
       "   assign_days  revenue  \n",
       "0          138      NaN  \n",
       "1          138      NaN  \n",
       "2           86      NaN  \n",
       "3          138      NaN  \n",
       "4          138      NaN  "
      ]
     },
     "execution_count": 2,
     "metadata": {},
     "output_type": "execute_result"
    }
   ],
   "source": [
    "df_path = r\"C:\\Users\\Akshay zAck\\Downloads\\PS_Homework_data_set.csv\"\n",
    "df = pd.read_csv(df_path)\n",
    "df.head()"
   ]
  },
  {
   "cell_type": "code",
   "execution_count": 3,
   "id": "21c4fb9f",
   "metadata": {},
   "outputs": [],
   "source": [
    "df_selected = df.drop(['Unnamed: 0','advertiser_id','date_assignment_starts','date_assignment_ends','first_revenue_date','date_created'], axis=1)"
   ]
  },
  {
   "cell_type": "code",
   "execution_count": 16,
   "id": "8c614ece",
   "metadata": {},
   "outputs": [],
   "source": [
    "df_selected.dropna(inplace=True)"
   ]
  },
  {
   "cell_type": "code",
   "execution_count": 17,
   "id": "5c4ccf1c",
   "metadata": {},
   "outputs": [],
   "source": [
    "X = df_selected.drop('revenue', axis=1)\n",
    "y = df_selected['revenue']"
   ]
  },
  {
   "cell_type": "code",
   "execution_count": 18,
   "id": "ba322b52",
   "metadata": {},
   "outputs": [
    {
     "data": {
      "text/plain": [
       "0"
      ]
     },
     "execution_count": 18,
     "metadata": {},
     "output_type": "execute_result"
    }
   ],
   "source": [
    "y.isna().sum()"
   ]
  },
  {
   "cell_type": "markdown",
   "id": "8fc09d31",
   "metadata": {},
   "source": [
    "#### There is a huge miscommunication in preidction and original data, applying any regression model on this would be of no use as:\n",
    "1. The Data isn't normal and highly skewed.\n",
    "2. There is a very low correlation between the features and the target variable.\n",
    "3. Still, let's give it a try"
   ]
  },
  {
   "cell_type": "code",
   "execution_count": 19,
   "id": "3572cf59",
   "metadata": {},
   "outputs": [],
   "source": [
    "X_train, X_test, y_train, y_test=train_test_split(X, y, test_size=0.15)"
   ]
  },
  {
   "cell_type": "code",
   "execution_count": 20,
   "id": "d56791b1",
   "metadata": {},
   "outputs": [
    {
     "name": "stdout",
     "output_type": "stream",
     "text": [
      "XGBRegressor(base_score=None, booster=None, colsample_bylevel=None,\n",
      "             colsample_bynode=None, colsample_bytree=None, gamma=None,\n",
      "             gpu_id=None, importance_type='gain', interaction_constraints=None,\n",
      "             learning_rate=None, max_delta_step=None, max_depth=None,\n",
      "             min_child_weight=None, missing=nan, monotone_constraints=None,\n",
      "             n_estimators=100, n_jobs=None, num_parallel_tree=None,\n",
      "             random_state=None, reg_alpha=None, reg_lambda=None,\n",
      "             scale_pos_weight=None, subsample=None, tree_method=None,\n",
      "             validate_parameters=None, verbosity=0)\n"
     ]
    },
    {
     "data": {
      "text/plain": [
       "XGBRegressor(base_score=0.5, booster='gbtree', colsample_bylevel=1,\n",
       "             colsample_bynode=1, colsample_bytree=1, gamma=0, gpu_id=None,\n",
       "             importance_type='gain', interaction_constraints=None,\n",
       "             learning_rate=0.1, max_delta_step=0, max_depth=3,\n",
       "             min_child_weight=1, missing=None, monotone_constraints=None,\n",
       "             n_estimators=100, n_jobs=1, nthread=None, num_parallel_tree=None,\n",
       "             objective='reg:linear', random_state=0, reg_alpha=0, reg_lambda=1,\n",
       "             scale_pos_weight=1, seed=None, silent=None, subsample=1,\n",
       "             tree_method=None, validate_parameters=None, verbosity=1)"
      ]
     },
     "execution_count": 20,
     "metadata": {},
     "output_type": "execute_result"
    }
   ],
   "source": [
    "xgbr = XGBRegressor(verbosity=0) \n",
    "print(xgbr)\n",
    "XGBRegressor(base_score=0.5, booster='gbtree', colsample_bylevel=1,\n",
    "       colsample_bynode=1, colsample_bytree=1, gamma=0,\n",
    "       importance_type='gain', learning_rate=0.1, max_delta_step=0,\n",
    "       max_depth=3, min_child_weight=1, missing=None, n_estimators=100,\n",
    "       n_jobs=1, nthread=None, objective='reg:linear', random_state=0,\n",
    "       reg_alpha=0, reg_lambda=1, scale_pos_weight=1, seed=None,\n",
    "       silent=None, subsample=1, verbosity=1)\n"
   ]
  },
  {
   "cell_type": "code",
   "execution_count": 21,
   "id": "9039efec",
   "metadata": {},
   "outputs": [
    {
     "data": {
      "text/plain": [
       "XGBRegressor(base_score=0.5, booster='gbtree', colsample_bylevel=1,\n",
       "             colsample_bynode=1, colsample_bytree=1, gamma=0, gpu_id=-1,\n",
       "             importance_type='gain', interaction_constraints='',\n",
       "             learning_rate=0.300000012, max_delta_step=0, max_depth=6,\n",
       "             min_child_weight=1, missing=nan, monotone_constraints='()',\n",
       "             n_estimators=100, n_jobs=4, num_parallel_tree=1, random_state=0,\n",
       "             reg_alpha=0, reg_lambda=1, scale_pos_weight=1, subsample=1,\n",
       "             tree_method='exact', validate_parameters=1, verbosity=0)"
      ]
     },
     "execution_count": 21,
     "metadata": {},
     "output_type": "execute_result"
    }
   ],
   "source": [
    "#Next, we'll fit the model with train data.\n",
    "\n",
    "xgbr.fit(X_train, y_train)\n"
   ]
  },
  {
   "cell_type": "code",
   "execution_count": 22,
   "id": "e2c54e9b",
   "metadata": {},
   "outputs": [
    {
     "name": "stdout",
     "output_type": "stream",
     "text": [
      "Training score:  0.40785903933675294\n"
     ]
    }
   ],
   "source": [
    "score = xgbr.score(X_train, y_train)  \n",
    "print(\"Training score: \", score)\n"
   ]
  },
  {
   "cell_type": "code",
   "execution_count": 23,
   "id": "b07ddfb1",
   "metadata": {},
   "outputs": [
    {
     "name": "stdout",
     "output_type": "stream",
     "text": [
      "Mean cross-validation score: -0.58\n"
     ]
    }
   ],
   "source": [
    "scores = cross_val_score(xgbr, X_train, y_train,cv=10)\n",
    "print(\"Mean cross-validation score: %.2f\" % scores.mean())\n"
   ]
  },
  {
   "cell_type": "code",
   "execution_count": 24,
   "id": "f5ea67b3",
   "metadata": {},
   "outputs": [
    {
     "name": "stdout",
     "output_type": "stream",
     "text": [
      "K-fold CV average score: -0.75\n"
     ]
    }
   ],
   "source": [
    "kfold = KFold(n_splits=10, shuffle=True)\n",
    "kf_cv_scores = cross_val_score(xgbr, X_train, y_train, cv=kfold )\n",
    "print(\"K-fold CV average score: %.2f\" % kf_cv_scores.mean())\n"
   ]
  },
  {
   "cell_type": "code",
   "execution_count": 27,
   "id": "1cb3a057",
   "metadata": {},
   "outputs": [
    {
     "name": "stdout",
     "output_type": "stream",
     "text": [
      "MSE: 34236099810106932.00\n",
      "RMSE: 185029997.05\n"
     ]
    }
   ],
   "source": [
    "y_pred = xgbr.predict(X_test)\n",
    "mse = mean_squared_error(y_test, y_pred)\n",
    "print(\"MSE: %.2f\" % mse)\n",
    "print(\"RMSE: %.2f\" % (mse**(1/2.0)))"
   ]
  },
  {
   "cell_type": "code",
   "execution_count": 28,
   "id": "4ee05f23",
   "metadata": {},
   "outputs": [
    {
     "data": {
      "image/png": "[encoded data removed]",
      "text/plain": [
       "<Figure size 432x288 with 1 Axes>"
      ]
     },
     "metadata": {
      "needs_background": "light"
     },
     "output_type": "display_data"
    }
   ],
   "source": [
    "x_ax = range(len(y_test))\n",
    "plt.plot(x_ax, y_test, label=\"original\")\n",
    "plt.plot(x_ax, y_pred, label=\"predicted\")\n",
    "plt.title(\"Revenue test and predicted data\")\n",
    "plt.legend()\n",
    "plt.show()"
   ]
  },
  {
   "cell_type": "markdown",
   "id": "0c026269",
   "metadata": {},
   "source": [
    "\n",
    "As already known, the model isn't performing good at all. All evaluation metrices are producing trashy results.\n",
    "No point of performing further analysis."
   ]
  }
 ],
 "metadata": {
  "kernelspec": {
   "display_name": "Python 3",
   "language": "python",
   "name": "python3"
  },
  "language_info": {
   "codemirror_mode": {
    "name": "ipython",
    "version": 3
   },
   "file_extension": ".py",
   "mimetype": "text/x-python",
   "name": "python",
   "nbconvert_exporter": "python",
   "pygments_lexer": "ipython3",
   "version": "3.8.8"
  }
 },
 "nbformat": 4,
 "nbformat_minor": 5
}
