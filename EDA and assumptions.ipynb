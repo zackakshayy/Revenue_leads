{
 "cells": [
  {
   "cell_type": "markdown",
   "id": "ea9749bc",
   "metadata": {},
   "source": [
    "# Problem Statement\n",
    "\n",
    "Indeed routes leads to the sales team based on the potential quality of each lead.\n",
    "The system predicts the potential value of each lead and assigns out the leads\n",
    "from highest to lowest probability until each sales representative has a full sales\n",
    "book.\n",
    "\n",
    "The dataset shows leads that were assigned and never assigned to\n",
    "a sales rep. The purpose of this exercise is to estimate the incremental impact\n",
    "the sales representatives had on revenue. In other words, how much more did\n",
    "these leads spend because there was sales intervention?"
   ]
  },
  {
   "cell_type": "markdown",
   "id": "c972c5aa",
   "metadata": {},
   "source": [
    "## Importing the required Libraries"
   ]
  },
  {
   "cell_type": "code",
   "execution_count": 1,
   "id": "6161a78e",
   "metadata": {},
   "outputs": [],
   "source": [
    "import pandas as pd\n",
    "import numpy as np\n",
    "import matplotlib.pyplot as pl\n",
    "import seaborn as sns\n",
    "import warnings\n",
    "warnings.filterwarnings('ignore')\n",
    "import pandasql as ps"
   ]
  },
  {
   "cell_type": "markdown",
   "id": "3b536637",
   "metadata": {},
   "source": [
    "## Importing the dataset as a dataframe"
   ]
  },
  {
   "cell_type": "code",
   "execution_count": 2,
   "id": "1fd64c0f",
   "metadata": {},
   "outputs": [],
   "source": [
    "#def importingOriginalData():\n",
    "df_path = r\"PS_Homework_data_set.csv\"\n",
    "df = pd.read_csv(df_path)\n",
    "#importingOriginalData()"
   ]
  },
  {
   "cell_type": "markdown",
   "id": "c5980ea6",
   "metadata": {},
   "source": [
    "## Exploratory Data Analysis(EDA)"
   ]
  },
  {
   "cell_type": "markdown",
   "id": "eaa254a6",
   "metadata": {},
   "source": [
    "### Understanding the variables in the data set.\n",
    "#### Taking a bird's eye view of how the data looks like"
   ]
  },
  {
   "cell_type": "code",
   "execution_count": 3,
   "id": "fd5aa520",
   "metadata": {},
   "outputs": [
    {
     "data": {
      "text/html": [
       "<div>\n",
       "<style scoped>\n",
       "    .dataframe tbody tr th:only-of-type {\n",
       "        vertical-align: middle;\n",
       "    }\n",
       "\n",
       "    .dataframe tbody tr th {\n",
       "        vertical-align: top;\n",
       "    }\n",
       "\n",
       "    .dataframe thead th {\n",
       "        text-align: right;\n",
       "    }\n",
       "</style>\n",
       "<table border=\"1\" class=\"dataframe\">\n",
       "  <thead>\n",
       "    <tr style=\"text-align: right;\">\n",
       "      <th></th>\n",
       "      <th>Unnamed: 0</th>\n",
       "      <th>advertiser_id</th>\n",
       "      <th>assigned</th>\n",
       "      <th>date_assignment_starts</th>\n",
       "      <th>date_assignment_ends</th>\n",
       "      <th>first_revenue_date</th>\n",
       "      <th>date_created</th>\n",
       "      <th>age</th>\n",
       "      <th>assign_days</th>\n",
       "      <th>revenue</th>\n",
       "    </tr>\n",
       "  </thead>\n",
       "  <tbody>\n",
       "    <tr>\n",
       "      <th>0</th>\n",
       "      <td>0</td>\n",
       "      <td>485</td>\n",
       "      <td>1</td>\n",
       "      <td>2017-02-01 00:00:00.000000</td>\n",
       "      <td>2017-06-19 12:12:37.888680</td>\n",
       "      <td>NaN</td>\n",
       "      <td>2006-07-14</td>\n",
       "      <td>3855</td>\n",
       "      <td>138</td>\n",
       "      <td>NaN</td>\n",
       "    </tr>\n",
       "    <tr>\n",
       "      <th>1</th>\n",
       "      <td>1</td>\n",
       "      <td>598</td>\n",
       "      <td>1</td>\n",
       "      <td>2017-02-01 00:00:00.000000</td>\n",
       "      <td>2017-06-19 12:12:37.888680</td>\n",
       "      <td>NaN</td>\n",
       "      <td>2006-08-02</td>\n",
       "      <td>3836</td>\n",
       "      <td>138</td>\n",
       "      <td>NaN</td>\n",
       "    </tr>\n",
       "    <tr>\n",
       "      <th>2</th>\n",
       "      <td>2</td>\n",
       "      <td>673</td>\n",
       "      <td>1</td>\n",
       "      <td>2017-02-01 00:00:00.000000</td>\n",
       "      <td>2017-04-28 15:36:30.000000</td>\n",
       "      <td>NaN</td>\n",
       "      <td>2006-08-17</td>\n",
       "      <td>3821</td>\n",
       "      <td>86</td>\n",
       "      <td>NaN</td>\n",
       "    </tr>\n",
       "    <tr>\n",
       "      <th>3</th>\n",
       "      <td>3</td>\n",
       "      <td>813</td>\n",
       "      <td>1</td>\n",
       "      <td>2017-02-01 00:00:00.000000</td>\n",
       "      <td>2017-06-19 12:12:37.888680</td>\n",
       "      <td>NaN</td>\n",
       "      <td>2006-09-12</td>\n",
       "      <td>3795</td>\n",
       "      <td>138</td>\n",
       "      <td>NaN</td>\n",
       "    </tr>\n",
       "    <tr>\n",
       "      <th>4</th>\n",
       "      <td>4</td>\n",
       "      <td>1132</td>\n",
       "      <td>1</td>\n",
       "      <td>2017-02-01 00:00:00.000000</td>\n",
       "      <td>2017-06-19 12:12:37.888680</td>\n",
       "      <td>NaN</td>\n",
       "      <td>2006-11-02</td>\n",
       "      <td>3744</td>\n",
       "      <td>138</td>\n",
       "      <td>NaN</td>\n",
       "    </tr>\n",
       "  </tbody>\n",
       "</table>\n",
       "</div>"
      ],
      "text/plain": [
       "   Unnamed: 0  advertiser_id  assigned      date_assignment_starts  \\\n",
       "0           0            485         1  2017-02-01 00:00:00.000000   \n",
       "1           1            598         1  2017-02-01 00:00:00.000000   \n",
       "2           2            673         1  2017-02-01 00:00:00.000000   \n",
       "3           3            813         1  2017-02-01 00:00:00.000000   \n",
       "4           4           1132         1  2017-02-01 00:00:00.000000   \n",
       "\n",
       "         date_assignment_ends first_revenue_date date_created   age  \\\n",
       "0  2017-06-19 12:12:37.888680                NaN   2006-07-14  3855   \n",
       "1  2017-06-19 12:12:37.888680                NaN   2006-08-02  3836   \n",
       "2  2017-04-28 15:36:30.000000                NaN   2006-08-17  3821   \n",
       "3  2017-06-19 12:12:37.888680                NaN   2006-09-12  3795   \n",
       "4  2017-06-19 12:12:37.888680                NaN   2006-11-02  3744   \n",
       "\n",
       "   assign_days  revenue  \n",
       "0          138      NaN  \n",
       "1          138      NaN  \n",
       "2           86      NaN  \n",
       "3          138      NaN  \n",
       "4          138      NaN  "
      ]
     },
     "execution_count": 3,
     "metadata": {},
     "output_type": "execute_result"
    }
   ],
   "source": [
    "df.head()"
   ]
  },
  {
   "cell_type": "code",
   "execution_count": 4,
   "id": "8cfa9400",
   "metadata": {},
   "outputs": [
    {
     "data": {
      "text/html": [
       "<div>\n",
       "<style scoped>\n",
       "    .dataframe tbody tr th:only-of-type {\n",
       "        vertical-align: middle;\n",
       "    }\n",
       "\n",
       "    .dataframe tbody tr th {\n",
       "        vertical-align: top;\n",
       "    }\n",
       "\n",
       "    .dataframe thead th {\n",
       "        text-align: right;\n",
       "    }\n",
       "</style>\n",
       "<table border=\"1\" class=\"dataframe\">\n",
       "  <thead>\n",
       "    <tr style=\"text-align: right;\">\n",
       "      <th></th>\n",
       "      <th>Unnamed: 0</th>\n",
       "      <th>advertiser_id</th>\n",
       "      <th>assigned</th>\n",
       "      <th>date_assignment_starts</th>\n",
       "      <th>date_assignment_ends</th>\n",
       "      <th>first_revenue_date</th>\n",
       "      <th>date_created</th>\n",
       "      <th>age</th>\n",
       "      <th>assign_days</th>\n",
       "      <th>revenue</th>\n",
       "    </tr>\n",
       "  </thead>\n",
       "  <tbody>\n",
       "    <tr>\n",
       "      <th>77886</th>\n",
       "      <td>77886</td>\n",
       "      <td>11140889</td>\n",
       "      <td>1</td>\n",
       "      <td>2017-02-01 00:00:00.000000</td>\n",
       "      <td>2017-06-19 12:12:37.888680</td>\n",
       "      <td>2017-02-23</td>\n",
       "      <td>2017-02-23</td>\n",
       "      <td>-22</td>\n",
       "      <td>138</td>\n",
       "      <td>9643000.0</td>\n",
       "    </tr>\n",
       "    <tr>\n",
       "      <th>77887</th>\n",
       "      <td>77887</td>\n",
       "      <td>11142171</td>\n",
       "      <td>1</td>\n",
       "      <td>2017-02-01 00:00:00.000000</td>\n",
       "      <td>2017-06-19 12:12:37.888680</td>\n",
       "      <td>NaN</td>\n",
       "      <td>2017-02-23</td>\n",
       "      <td>-22</td>\n",
       "      <td>138</td>\n",
       "      <td>NaN</td>\n",
       "    </tr>\n",
       "    <tr>\n",
       "      <th>77888</th>\n",
       "      <td>77888</td>\n",
       "      <td>11146603</td>\n",
       "      <td>1</td>\n",
       "      <td>2017-02-01 00:00:00.000000</td>\n",
       "      <td>2017-06-19 12:12:37.888680</td>\n",
       "      <td>NaN</td>\n",
       "      <td>2017-02-24</td>\n",
       "      <td>-23</td>\n",
       "      <td>138</td>\n",
       "      <td>NaN</td>\n",
       "    </tr>\n",
       "    <tr>\n",
       "      <th>77889</th>\n",
       "      <td>77889</td>\n",
       "      <td>11199601</td>\n",
       "      <td>1</td>\n",
       "      <td>2017-02-01 00:00:00.000000</td>\n",
       "      <td>2017-06-19 12:12:37.888680</td>\n",
       "      <td>NaN</td>\n",
       "      <td>2017-02-28</td>\n",
       "      <td>-27</td>\n",
       "      <td>138</td>\n",
       "      <td>NaN</td>\n",
       "    </tr>\n",
       "    <tr>\n",
       "      <th>77890</th>\n",
       "      <td>77890</td>\n",
       "      <td>11199632</td>\n",
       "      <td>1</td>\n",
       "      <td>2017-02-01 00:00:00.000000</td>\n",
       "      <td>2017-06-19 12:12:37.888680</td>\n",
       "      <td>NaN</td>\n",
       "      <td>2017-02-28</td>\n",
       "      <td>-27</td>\n",
       "      <td>138</td>\n",
       "      <td>NaN</td>\n",
       "    </tr>\n",
       "  </tbody>\n",
       "</table>\n",
       "</div>"
      ],
      "text/plain": [
       "       Unnamed: 0  advertiser_id  assigned      date_assignment_starts  \\\n",
       "77886       77886       11140889         1  2017-02-01 00:00:00.000000   \n",
       "77887       77887       11142171         1  2017-02-01 00:00:00.000000   \n",
       "77888       77888       11146603         1  2017-02-01 00:00:00.000000   \n",
       "77889       77889       11199601         1  2017-02-01 00:00:00.000000   \n",
       "77890       77890       11199632         1  2017-02-01 00:00:00.000000   \n",
       "\n",
       "             date_assignment_ends first_revenue_date date_created  age  \\\n",
       "77886  2017-06-19 12:12:37.888680         2017-02-23   2017-02-23  -22   \n",
       "77887  2017-06-19 12:12:37.888680                NaN   2017-02-23  -22   \n",
       "77888  2017-06-19 12:12:37.888680                NaN   2017-02-24  -23   \n",
       "77889  2017-06-19 12:12:37.888680                NaN   2017-02-28  -27   \n",
       "77890  2017-06-19 12:12:37.888680                NaN   2017-02-28  -27   \n",
       "\n",
       "       assign_days    revenue  \n",
       "77886          138  9643000.0  \n",
       "77887          138        NaN  \n",
       "77888          138        NaN  \n",
       "77889          138        NaN  \n",
       "77890          138        NaN  "
      ]
     },
     "execution_count": 4,
     "metadata": {},
     "output_type": "execute_result"
    }
   ],
   "source": [
    "df.tail()"
   ]
  },
  {
   "cell_type": "markdown",
   "id": "c098d846",
   "metadata": {},
   "source": [
    "#### Checking the dimension of the original dataset"
   ]
  },
  {
   "cell_type": "code",
   "execution_count": 5,
   "id": "9ccc0156",
   "metadata": {},
   "outputs": [
    {
     "data": {
      "text/plain": [
       "(77891, 10)"
      ]
     },
     "execution_count": 5,
     "metadata": {},
     "output_type": "execute_result"
    }
   ],
   "source": [
    "df.shape"
   ]
  },
  {
   "cell_type": "markdown",
   "id": "a963fe67",
   "metadata": {},
   "source": [
    "Our original dataset has 77891 rows and 9 columns"
   ]
  },
  {
   "cell_type": "code",
   "execution_count": 6,
   "id": "5d16bffc",
   "metadata": {},
   "outputs": [
    {
     "name": "stdout",
     "output_type": "stream",
     "text": [
      "Statistics=nan, p=1.000\n",
      "Sample looks Gaussian (fail to reject H0)\n"
     ]
    }
   ],
   "source": [
    "from scipy.stats import shapiro\n",
    "\n",
    "# normality test\n",
    "stat, p = shapiro(df['revenue'])\n",
    "print('Statistics=%.3f, p=%.3f' % (stat, p))\n",
    "# interpret\n",
    "alpha = 0.05\n",
    "if p > alpha:\n",
    "    print('Sample looks Gaussian (fail to reject H0)')\n",
    "else:\n",
    "    print('Sample does not look Gaussian (reject H0)')"
   ]
  },
  {
   "cell_type": "markdown",
   "id": "7e9d2510",
   "metadata": {},
   "source": [
    "#### Null Check: Calculating the null values in each column of the dataframe"
   ]
  },
  {
   "cell_type": "code",
   "execution_count": 7,
   "id": "e4381d6b",
   "metadata": {},
   "outputs": [
    {
     "data": {
      "text/plain": [
       "Unnamed: 0                    0\n",
       "advertiser_id                 0\n",
       "assigned                      0\n",
       "date_assignment_starts        0\n",
       "date_assignment_ends          0\n",
       "first_revenue_date        69458\n",
       "date_created                  0\n",
       "age                           0\n",
       "assign_days                   0\n",
       "revenue                   74551\n",
       "dtype: int64"
      ]
     },
     "execution_count": 7,
     "metadata": {},
     "output_type": "execute_result"
    }
   ],
   "source": [
    "df.isna().sum()"
   ]
  },
  {
   "cell_type": "markdown",
   "id": "a665e4bb",
   "metadata": {},
   "source": [
    "As per the above analysis for finding out the missing values, it has been observed that revenue column has 74551 missing values out of 77891 total rows,\n",
    "which means that approximately 95.7% values are missing in the revenue column.\n",
    "\n",
    "#### Possible approaches for missing data in a column:\n",
    "1. We can drop all the rows with missing values.\n",
    "Advantage: \n",
    "Complete removal of data with missing values results in robust and highly accurate model\n",
    "Deleting a particular row or a column with no specific information is better, since it does not have a high weightage\n",
    "\n",
    "Disadvantage:\n",
    "Loss of information and data\n",
    "Works poorly if the percentage of missing values is high (say 30%), compared to the whole dataset\n",
    "\n",
    "2. Replacing missing values with Mean/Median/Mode:\n",
    "Advantage:\n",
    "This is a better approach when the data size is small but in our case the data is not very small\n",
    "It can prevent data loss which results in removal of the rows and columns\n",
    "\n",
    "Disadvantage:\n",
    "Imputing the approximations and we add variance and bias to the data\n",
    "Works poorly compared to other multiple-imputations method\n",
    "\n",
    "3. Predicting The Missing Values\n",
    "we can predict the nulls with the help of a machine learning regression algorithm. But since applying regression isn't producing good and accurate results, I amd not using this method.\n",
    "\n",
    "Advantage:\n",
    "Imputing the missing variable is an improvement as long as the bias from the same is smaller than the omitted variable bias\n",
    "Yields unbiased estimates of the model parameters\n",
    "\n",
    "Disadvantage:\n",
    "Bias also arises when an incomplete conditioning set is used for a categorical variable\n",
    "Considered only as a proxy for the true values\n",
    "\n",
    "4. Using Algorithms like KNN\n",
    "\n",
    "Advantage:\n",
    "Does not require creation of a predictive model for each attribute with missing data in the dataset\n",
    "Correlation of the data is neglected\n",
    "\n",
    "Disadvantage:\n",
    "Is a very time consuming process and it can be critical in data mining where large databases are being extracted\n",
    "Choice of distance functions can be Euclidean, Manhattan etc. which is do not yield a robust result"
   ]
  },
  {
   "cell_type": "markdown",
   "id": "ccd771e5",
   "metadata": {},
   "source": [
    "#### Dropping Duplicates rows in the columns (if any)"
   ]
  },
  {
   "cell_type": "code",
   "execution_count": 8,
   "id": "5f75d01b",
   "metadata": {},
   "outputs": [
    {
     "data": {
      "text/plain": [
       "(77891, 10)"
      ]
     },
     "execution_count": 8,
     "metadata": {},
     "output_type": "execute_result"
    }
   ],
   "source": [
    "df.drop_duplicates()\n",
    "df.shape"
   ]
  },
  {
   "cell_type": "markdown",
   "id": "4eff8cc9",
   "metadata": {},
   "source": [
    "Since the shape of the data is same as it was before dropping the duplicates, it has been observed that there are no duplicate columns in the dataset "
   ]
  },
  {
   "cell_type": "markdown",
   "id": "e78ff0fa",
   "metadata": {},
   "source": [
    "#### Displaying a list of all the column headers"
   ]
  },
  {
   "cell_type": "code",
   "execution_count": 9,
   "id": "70775c65",
   "metadata": {},
   "outputs": [
    {
     "data": {
      "text/plain": [
       "Index(['Unnamed: 0', 'advertiser_id', 'assigned', 'date_assignment_starts',\n",
       "       'date_assignment_ends', 'first_revenue_date', 'date_created', 'age',\n",
       "       'assign_days', 'revenue'],\n",
       "      dtype='object')"
      ]
     },
     "execution_count": 9,
     "metadata": {},
     "output_type": "execute_result"
    }
   ],
   "source": [
    "df.columns"
   ]
  },
  {
   "cell_type": "markdown",
   "id": "458fa980",
   "metadata": {},
   "source": [
    "#### Displaying the number of unique values in each column"
   ]
  },
  {
   "cell_type": "code",
   "execution_count": 10,
   "id": "26ee52f6",
   "metadata": {},
   "outputs": [
    {
     "data": {
      "text/plain": [
       "Unnamed: 0                77891\n",
       "advertiser_id             77891\n",
       "assigned                      2\n",
       "date_assignment_starts        3\n",
       "date_assignment_ends       6502\n",
       "first_revenue_date         1636\n",
       "date_created               2101\n",
       "age                        2131\n",
       "assign_days                 141\n",
       "revenue                    2966\n",
       "dtype: int64"
      ]
     },
     "execution_count": 10,
     "metadata": {},
     "output_type": "execute_result"
    }
   ],
   "source": [
    "df.nunique()"
   ]
  },
  {
   "cell_type": "markdown",
   "id": "d9a29093",
   "metadata": {},
   "source": [
    "#### Displaying the data types of all the columns seperately"
   ]
  },
  {
   "cell_type": "code",
   "execution_count": 11,
   "id": "b57e3318",
   "metadata": {},
   "outputs": [
    {
     "data": {
      "text/plain": [
       "Unnamed: 0                  int64\n",
       "advertiser_id               int64\n",
       "assigned                    int64\n",
       "date_assignment_starts     object\n",
       "date_assignment_ends       object\n",
       "first_revenue_date         object\n",
       "date_created               object\n",
       "age                         int64\n",
       "assign_days                 int64\n",
       "revenue                   float64\n",
       "dtype: object"
      ]
     },
     "execution_count": 11,
     "metadata": {},
     "output_type": "execute_result"
    }
   ],
   "source": [
    "df.dtypes"
   ]
  },
  {
   "cell_type": "markdown",
   "id": "553ee760",
   "metadata": {},
   "source": [
    "### Analysing each column"
   ]
  },
  {
   "cell_type": "markdown",
   "id": "8a2c71bf",
   "metadata": {},
   "source": [
    "#### 1. Unnamed: 0\n",
    "dtype = int64\n",
    "\n",
    "Assumption = After analysing the column 'Unnamed: 0', it seems that it is exactly same as index of the rows so it wouldn't be of much use to perform further analysis.\n",
    "I feel that we can drop this column from the dataset, as any correlation of 'unnamed' column (if exists) with other columns would be a spurious correlation.\n",
    "Therefore, dropping this column for reducing noise in the data."
   ]
  },
  {
   "cell_type": "code",
   "execution_count": 12,
   "id": "9c384d09",
   "metadata": {},
   "outputs": [],
   "source": [
    "df.drop('Unnamed: 0', axis=1,inplace=True)"
   ]
  },
  {
   "cell_type": "markdown",
   "id": "827d7ee6",
   "metadata": {},
   "source": [
    "#### 2. advertiser_id\n",
    "dtype = int64\n",
    "\n",
    "Mostly, IDs are always unqiue but still let's check for any existing duplicate advertiser IDs\n",
    "#### Checking whether there is more than 1 advertiser id in the column 'advertiser_id'"
   ]
  },
  {
   "cell_type": "code",
   "execution_count": 13,
   "id": "72bd7c43",
   "metadata": {},
   "outputs": [
    {
     "data": {
      "text/plain": [
       "77891"
      ]
     },
     "execution_count": 13,
     "metadata": {},
     "output_type": "execute_result"
    }
   ],
   "source": [
    "df['advertiser_id'].nunique()"
   ]
  },
  {
   "cell_type": "markdown",
   "id": "acf8e1ba",
   "metadata": {},
   "source": [
    "Since, 77891 is same as the total number of rows in our dataset, we can infer that all the IDs are unique in the 'advertiser_id' column\n",
    "This would be good to uniquely identify an advertiserment but this won't of much use for further analysis.\n",
    "Therefore, dropping this column for reducing noise in the data."
   ]
  },
  {
   "cell_type": "code",
   "execution_count": 14,
   "id": "56346fce",
   "metadata": {},
   "outputs": [],
   "source": [
    "df.drop('advertiser_id', axis=1,inplace=True)"
   ]
  },
  {
   "cell_type": "markdown",
   "id": "bd75f2b0",
   "metadata": {},
   "source": [
    "#### 3. assigned\n",
    "dtype = int64"
   ]
  },
  {
   "cell_type": "code",
   "execution_count": 15,
   "id": "38b1274b",
   "metadata": {},
   "outputs": [
    {
     "data": {
      "text/plain": [
       "2"
      ]
     },
     "execution_count": 15,
     "metadata": {},
     "output_type": "execute_result"
    }
   ],
   "source": [
    "df['assigned'].nunique()"
   ]
  },
  {
   "cell_type": "markdown",
   "id": "5afc6f8f",
   "metadata": {},
   "source": [
    "Assumption = Treating this as a categorical variable as this shows whether leads were assigned or not assigned to\n",
    "the sales rep"
   ]
  },
  {
   "cell_type": "markdown",
   "id": "e285145b",
   "metadata": {},
   "source": [
    "#### 4. date_assignment_starts\n",
    "dtype = object\n",
    "\n",
    "Assumption = This is the date and time when the advertising assignment starts"
   ]
  },
  {
   "cell_type": "markdown",
   "id": "d8d4c789",
   "metadata": {},
   "source": [
    "#### 5. date_assignment_ends\n",
    "dtype = object\n",
    "\n",
    "Assumption = This is the date and time when the advertising assignment ends"
   ]
  },
  {
   "cell_type": "markdown",
   "id": "298591ec",
   "metadata": {},
   "source": [
    "#### 6. first_revenue_date\n",
    "dtype = object\n",
    "\n",
    "Assumption = This is the date when first revenue was collected.\n",
    "Would take its difference in days with the date_created to use it as an input variable after analysing its correlation."
   ]
  },
  {
   "cell_type": "markdown",
   "id": "0ef49528",
   "metadata": {},
   "source": [
    "#### 7. date_created\n",
    "dtype = object\n",
    "\n",
    "Assumption = This is the date when advertisement got created"
   ]
  },
  {
   "cell_type": "markdown",
   "id": "6979711b",
   "metadata": {},
   "source": [
    "#### 8. age\n",
    "dtype = int64\n",
    "\n",
    "Assumption = Age of the advertisement. This also contains negative values, which seems ambiguous. Negative value of age might signfy the age of a lead before advertisement was. I'd treat this as a variable which might contribute towards predicting the revenue and ignore the ambiguity of age being negative."
   ]
  },
  {
   "cell_type": "markdown",
   "id": "a99259ad",
   "metadata": {},
   "source": [
    "#### 9. assign_days\n",
    "dtype = int64\n",
    "\n",
    "Assumption = Number of days assigned to a lead. This also contains negative values, which seems ambiguous. Negative value of days might signfy the days of a lead before the advertisement. I'd treat this as a variable which might be contributing towards predicting the revenue and ignore the ambiguity of number of assigned days being negative."
   ]
  },
  {
   "cell_type": "markdown",
   "id": "de3275e7",
   "metadata": {},
   "source": [
    "#### 9. revenue\n",
    "dtype = float64\n",
    "\n",
    "Assumption = Revenue generated by a lead"
   ]
  },
  {
   "cell_type": "markdown",
   "id": "ef0c71f0",
   "metadata": {},
   "source": [
    "### Converting the columns containg dates to datetime format "
   ]
  },
  {
   "cell_type": "code",
   "execution_count": 16,
   "id": "19cf5d4b",
   "metadata": {},
   "outputs": [],
   "source": [
    "date_columns = ['date_assignment_starts', 'date_assignment_ends', 'first_revenue_date', 'date_created']\n",
    "\n",
    "for d in date_columns:\n",
    "    df[d] = df[d].astype('datetime64[ns]')"
   ]
  },
  {
   "cell_type": "code",
   "execution_count": 17,
   "id": "02ad4076",
   "metadata": {},
   "outputs": [
    {
     "data": {
      "text/plain": [
       "assigned                           int64\n",
       "date_assignment_starts    datetime64[ns]\n",
       "date_assignment_ends      datetime64[ns]\n",
       "first_revenue_date        datetime64[ns]\n",
       "date_created              datetime64[ns]\n",
       "age                                int64\n",
       "assign_days                        int64\n",
       "revenue                          float64\n",
       "dtype: object"
      ]
     },
     "execution_count": 17,
     "metadata": {},
     "output_type": "execute_result"
    }
   ],
   "source": [
    "df.dtypes"
   ]
  },
  {
   "cell_type": "markdown",
   "id": "77de7ad4",
   "metadata": {},
   "source": [
    "### Calculating tenure of the assignment by taking differnce between date_assignment_ends and date_assignment_starts. Adding a new column tenure to our df\n"
   ]
  },
  {
   "cell_type": "code",
   "execution_count": 18,
   "id": "467e9343",
   "metadata": {},
   "outputs": [],
   "source": [
    "df['assignment_tenure'] = df['date_assignment_ends']- df['date_assignment_starts']"
   ]
  },
  {
   "cell_type": "code",
   "execution_count": 19,
   "id": "d0463db0",
   "metadata": {},
   "outputs": [
    {
     "data": {
      "text/html": [
       "<div>\n",
       "<style scoped>\n",
       "    .dataframe tbody tr th:only-of-type {\n",
       "        vertical-align: middle;\n",
       "    }\n",
       "\n",
       "    .dataframe tbody tr th {\n",
       "        vertical-align: top;\n",
       "    }\n",
       "\n",
       "    .dataframe thead th {\n",
       "        text-align: right;\n",
       "    }\n",
       "</style>\n",
       "<table border=\"1\" class=\"dataframe\">\n",
       "  <thead>\n",
       "    <tr style=\"text-align: right;\">\n",
       "      <th></th>\n",
       "      <th>assigned</th>\n",
       "      <th>date_assignment_starts</th>\n",
       "      <th>date_assignment_ends</th>\n",
       "      <th>first_revenue_date</th>\n",
       "      <th>date_created</th>\n",
       "      <th>age</th>\n",
       "      <th>assign_days</th>\n",
       "      <th>revenue</th>\n",
       "      <th>assignment_tenure</th>\n",
       "    </tr>\n",
       "  </thead>\n",
       "  <tbody>\n",
       "    <tr>\n",
       "      <th>0</th>\n",
       "      <td>1</td>\n",
       "      <td>2017-02-01</td>\n",
       "      <td>2017-06-19 12:12:37.888680</td>\n",
       "      <td>NaT</td>\n",
       "      <td>2006-07-14</td>\n",
       "      <td>3855</td>\n",
       "      <td>138</td>\n",
       "      <td>NaN</td>\n",
       "      <td>138 days 12:12:37.888680</td>\n",
       "    </tr>\n",
       "    <tr>\n",
       "      <th>1</th>\n",
       "      <td>1</td>\n",
       "      <td>2017-02-01</td>\n",
       "      <td>2017-06-19 12:12:37.888680</td>\n",
       "      <td>NaT</td>\n",
       "      <td>2006-08-02</td>\n",
       "      <td>3836</td>\n",
       "      <td>138</td>\n",
       "      <td>NaN</td>\n",
       "      <td>138 days 12:12:37.888680</td>\n",
       "    </tr>\n",
       "    <tr>\n",
       "      <th>2</th>\n",
       "      <td>1</td>\n",
       "      <td>2017-02-01</td>\n",
       "      <td>2017-04-28 15:36:30.000000</td>\n",
       "      <td>NaT</td>\n",
       "      <td>2006-08-17</td>\n",
       "      <td>3821</td>\n",
       "      <td>86</td>\n",
       "      <td>NaN</td>\n",
       "      <td>86 days 15:36:30</td>\n",
       "    </tr>\n",
       "    <tr>\n",
       "      <th>3</th>\n",
       "      <td>1</td>\n",
       "      <td>2017-02-01</td>\n",
       "      <td>2017-06-19 12:12:37.888680</td>\n",
       "      <td>NaT</td>\n",
       "      <td>2006-09-12</td>\n",
       "      <td>3795</td>\n",
       "      <td>138</td>\n",
       "      <td>NaN</td>\n",
       "      <td>138 days 12:12:37.888680</td>\n",
       "    </tr>\n",
       "    <tr>\n",
       "      <th>4</th>\n",
       "      <td>1</td>\n",
       "      <td>2017-02-01</td>\n",
       "      <td>2017-06-19 12:12:37.888680</td>\n",
       "      <td>NaT</td>\n",
       "      <td>2006-11-02</td>\n",
       "      <td>3744</td>\n",
       "      <td>138</td>\n",
       "      <td>NaN</td>\n",
       "      <td>138 days 12:12:37.888680</td>\n",
       "    </tr>\n",
       "  </tbody>\n",
       "</table>\n",
       "</div>"
      ],
      "text/plain": [
       "   assigned date_assignment_starts       date_assignment_ends  \\\n",
       "0         1             2017-02-01 2017-06-19 12:12:37.888680   \n",
       "1         1             2017-02-01 2017-06-19 12:12:37.888680   \n",
       "2         1             2017-02-01 2017-04-28 15:36:30.000000   \n",
       "3         1             2017-02-01 2017-06-19 12:12:37.888680   \n",
       "4         1             2017-02-01 2017-06-19 12:12:37.888680   \n",
       "\n",
       "  first_revenue_date date_created   age  assign_days  revenue  \\\n",
       "0                NaT   2006-07-14  3855          138      NaN   \n",
       "1                NaT   2006-08-02  3836          138      NaN   \n",
       "2                NaT   2006-08-17  3821           86      NaN   \n",
       "3                NaT   2006-09-12  3795          138      NaN   \n",
       "4                NaT   2006-11-02  3744          138      NaN   \n",
       "\n",
       "         assignment_tenure  \n",
       "0 138 days 12:12:37.888680  \n",
       "1 138 days 12:12:37.888680  \n",
       "2         86 days 15:36:30  \n",
       "3 138 days 12:12:37.888680  \n",
       "4 138 days 12:12:37.888680  "
      ]
     },
     "execution_count": 19,
     "metadata": {},
     "output_type": "execute_result"
    }
   ],
   "source": [
    "df.head()"
   ]
  },
  {
   "cell_type": "markdown",
   "id": "0e54246b",
   "metadata": {},
   "source": [
    "Since our new column 'assignment_tenure' is same as assign_days, it can be inferred that we can capture the information the two columns 'date_assignment_starts' and 'date_assignment_ends' through the column assign_days\n",
    "We can remove the columns 'date_assignment_starts', 'date_assignment_ends' and 'assignment_tenure' from the dataset"
   ]
  },
  {
   "cell_type": "code",
   "execution_count": 20,
   "id": "7e837d1e",
   "metadata": {},
   "outputs": [],
   "source": [
    "df.drop(['date_assignment_starts', 'date_assignment_ends', 'assignment_tenure'], axis=1, inplace=True)"
   ]
  },
  {
   "cell_type": "code",
   "execution_count": 21,
   "id": "67ab8ca3",
   "metadata": {},
   "outputs": [
    {
     "data": {
      "text/html": [
       "<div>\n",
       "<style scoped>\n",
       "    .dataframe tbody tr th:only-of-type {\n",
       "        vertical-align: middle;\n",
       "    }\n",
       "\n",
       "    .dataframe tbody tr th {\n",
       "        vertical-align: top;\n",
       "    }\n",
       "\n",
       "    .dataframe thead th {\n",
       "        text-align: right;\n",
       "    }\n",
       "</style>\n",
       "<table border=\"1\" class=\"dataframe\">\n",
       "  <thead>\n",
       "    <tr style=\"text-align: right;\">\n",
       "      <th></th>\n",
       "      <th>assigned</th>\n",
       "      <th>first_revenue_date</th>\n",
       "      <th>date_created</th>\n",
       "      <th>age</th>\n",
       "      <th>assign_days</th>\n",
       "      <th>revenue</th>\n",
       "    </tr>\n",
       "  </thead>\n",
       "  <tbody>\n",
       "    <tr>\n",
       "      <th>0</th>\n",
       "      <td>1</td>\n",
       "      <td>NaT</td>\n",
       "      <td>2006-07-14</td>\n",
       "      <td>3855</td>\n",
       "      <td>138</td>\n",
       "      <td>NaN</td>\n",
       "    </tr>\n",
       "    <tr>\n",
       "      <th>1</th>\n",
       "      <td>1</td>\n",
       "      <td>NaT</td>\n",
       "      <td>2006-08-02</td>\n",
       "      <td>3836</td>\n",
       "      <td>138</td>\n",
       "      <td>NaN</td>\n",
       "    </tr>\n",
       "    <tr>\n",
       "      <th>2</th>\n",
       "      <td>1</td>\n",
       "      <td>NaT</td>\n",
       "      <td>2006-08-17</td>\n",
       "      <td>3821</td>\n",
       "      <td>86</td>\n",
       "      <td>NaN</td>\n",
       "    </tr>\n",
       "    <tr>\n",
       "      <th>3</th>\n",
       "      <td>1</td>\n",
       "      <td>NaT</td>\n",
       "      <td>2006-09-12</td>\n",
       "      <td>3795</td>\n",
       "      <td>138</td>\n",
       "      <td>NaN</td>\n",
       "    </tr>\n",
       "    <tr>\n",
       "      <th>4</th>\n",
       "      <td>1</td>\n",
       "      <td>NaT</td>\n",
       "      <td>2006-11-02</td>\n",
       "      <td>3744</td>\n",
       "      <td>138</td>\n",
       "      <td>NaN</td>\n",
       "    </tr>\n",
       "  </tbody>\n",
       "</table>\n",
       "</div>"
      ],
      "text/plain": [
       "   assigned first_revenue_date date_created   age  assign_days  revenue\n",
       "0         1                NaT   2006-07-14  3855          138      NaN\n",
       "1         1                NaT   2006-08-02  3836          138      NaN\n",
       "2         1                NaT   2006-08-17  3821           86      NaN\n",
       "3         1                NaT   2006-09-12  3795          138      NaN\n",
       "4         1                NaT   2006-11-02  3744          138      NaN"
      ]
     },
     "execution_count": 21,
     "metadata": {},
     "output_type": "execute_result"
    }
   ],
   "source": [
    "df.head()"
   ]
  },
  {
   "cell_type": "code",
   "execution_count": 22,
   "id": "3084f14e",
   "metadata": {},
   "outputs": [
    {
     "data": {
      "text/plain": [
       "<seaborn.axisgrid.PairGrid at 0x2e18653a880>"
      ]
     },
     "execution_count": 22,
     "metadata": {},
     "output_type": "execute_result"
    },
    {
     "data": {
      "image/png": "[encoded data removed]",
      "text/plain": [
       "<Figure size 592.75x540 with 12 Axes>"
      ]
     },
     "metadata": {
      "needs_background": "light"
     },
     "output_type": "display_data"
    }
   ],
   "source": [
    "sns.pairplot(df, hue = 'assigned')"
   ]
  },
  {
   "cell_type": "markdown",
   "id": "fe4629f6",
   "metadata": {},
   "source": [
    "### Seperating assigned and unassigned leads"
   ]
  },
  {
   "cell_type": "code",
   "execution_count": 23,
   "id": "85c2c11a",
   "metadata": {},
   "outputs": [
    {
     "data": {
      "text/html": [
       "<div>\n",
       "<style scoped>\n",
       "    .dataframe tbody tr th:only-of-type {\n",
       "        vertical-align: middle;\n",
       "    }\n",
       "\n",
       "    .dataframe tbody tr th {\n",
       "        vertical-align: top;\n",
       "    }\n",
       "\n",
       "    .dataframe thead th {\n",
       "        text-align: right;\n",
       "    }\n",
       "</style>\n",
       "<table border=\"1\" class=\"dataframe\">\n",
       "  <thead>\n",
       "    <tr style=\"text-align: right;\">\n",
       "      <th></th>\n",
       "      <th>first_revenue_date</th>\n",
       "      <th>date_created</th>\n",
       "      <th>age</th>\n",
       "      <th>assign_days</th>\n",
       "      <th>revenue</th>\n",
       "    </tr>\n",
       "  </thead>\n",
       "  <tbody>\n",
       "    <tr>\n",
       "      <th>0</th>\n",
       "      <td>None</td>\n",
       "      <td>2008-08-10 00:00:00.000000</td>\n",
       "      <td>3097</td>\n",
       "      <td>137</td>\n",
       "      <td>NaN</td>\n",
       "    </tr>\n",
       "    <tr>\n",
       "      <th>1</th>\n",
       "      <td>None</td>\n",
       "      <td>2009-08-06 00:00:00.000000</td>\n",
       "      <td>2737</td>\n",
       "      <td>136</td>\n",
       "      <td>NaN</td>\n",
       "    </tr>\n",
       "    <tr>\n",
       "      <th>2</th>\n",
       "      <td>None</td>\n",
       "      <td>2009-10-21 00:00:00.000000</td>\n",
       "      <td>2660</td>\n",
       "      <td>138</td>\n",
       "      <td>NaN</td>\n",
       "    </tr>\n",
       "    <tr>\n",
       "      <th>3</th>\n",
       "      <td>None</td>\n",
       "      <td>2009-11-11 00:00:00.000000</td>\n",
       "      <td>2640</td>\n",
       "      <td>137</td>\n",
       "      <td>NaN</td>\n",
       "    </tr>\n",
       "    <tr>\n",
       "      <th>4</th>\n",
       "      <td>None</td>\n",
       "      <td>2009-11-12 00:00:00.000000</td>\n",
       "      <td>2639</td>\n",
       "      <td>137</td>\n",
       "      <td>NaN</td>\n",
       "    </tr>\n",
       "    <tr>\n",
       "      <th>...</th>\n",
       "      <td>...</td>\n",
       "      <td>...</td>\n",
       "      <td>...</td>\n",
       "      <td>...</td>\n",
       "      <td>...</td>\n",
       "    </tr>\n",
       "    <tr>\n",
       "      <th>40807</th>\n",
       "      <td>None</td>\n",
       "      <td>2017-02-03 00:00:00.000000</td>\n",
       "      <td>0</td>\n",
       "      <td>136</td>\n",
       "      <td>NaN</td>\n",
       "    </tr>\n",
       "    <tr>\n",
       "      <th>40808</th>\n",
       "      <td>None</td>\n",
       "      <td>2017-02-03 00:00:00.000000</td>\n",
       "      <td>0</td>\n",
       "      <td>136</td>\n",
       "      <td>NaN</td>\n",
       "    </tr>\n",
       "    <tr>\n",
       "      <th>40809</th>\n",
       "      <td>None</td>\n",
       "      <td>2017-02-03 00:00:00.000000</td>\n",
       "      <td>0</td>\n",
       "      <td>136</td>\n",
       "      <td>NaN</td>\n",
       "    </tr>\n",
       "    <tr>\n",
       "      <th>40810</th>\n",
       "      <td>None</td>\n",
       "      <td>2017-02-03 00:00:00.000000</td>\n",
       "      <td>0</td>\n",
       "      <td>51</td>\n",
       "      <td>NaN</td>\n",
       "    </tr>\n",
       "    <tr>\n",
       "      <th>40811</th>\n",
       "      <td>2017-02-06 00:00:00.000000</td>\n",
       "      <td>2017-02-03 00:00:00.000000</td>\n",
       "      <td>0</td>\n",
       "      <td>56</td>\n",
       "      <td>241749000.0</td>\n",
       "    </tr>\n",
       "  </tbody>\n",
       "</table>\n",
       "<p>40812 rows × 5 columns</p>\n",
       "</div>"
      ],
      "text/plain": [
       "               first_revenue_date                date_created   age  \\\n",
       "0                            None  2008-08-10 00:00:00.000000  3097   \n",
       "1                            None  2009-08-06 00:00:00.000000  2737   \n",
       "2                            None  2009-10-21 00:00:00.000000  2660   \n",
       "3                            None  2009-11-11 00:00:00.000000  2640   \n",
       "4                            None  2009-11-12 00:00:00.000000  2639   \n",
       "...                           ...                         ...   ...   \n",
       "40807                        None  2017-02-03 00:00:00.000000     0   \n",
       "40808                        None  2017-02-03 00:00:00.000000     0   \n",
       "40809                        None  2017-02-03 00:00:00.000000     0   \n",
       "40810                        None  2017-02-03 00:00:00.000000     0   \n",
       "40811  2017-02-06 00:00:00.000000  2017-02-03 00:00:00.000000     0   \n",
       "\n",
       "       assign_days      revenue  \n",
       "0              137          NaN  \n",
       "1              136          NaN  \n",
       "2              138          NaN  \n",
       "3              137          NaN  \n",
       "4              137          NaN  \n",
       "...            ...          ...  \n",
       "40807          136          NaN  \n",
       "40808          136          NaN  \n",
       "40809          136          NaN  \n",
       "40810           51          NaN  \n",
       "40811           56  241749000.0  \n",
       "\n",
       "[40812 rows x 5 columns]"
      ]
     },
     "execution_count": 23,
     "metadata": {},
     "output_type": "execute_result"
    }
   ],
   "source": [
    "q1 = \" SELECT * FROM df WHERE assigned == 0\"\n",
    "unassigned_leads = ps.sqldf(q1, locals())\n",
    "unassigned_leads.drop('assigned', axis = 1, inplace = True)\n",
    "unassigned_leads"
   ]
  },
  {
   "cell_type": "code",
   "execution_count": 24,
   "id": "3c62535d",
   "metadata": {},
   "outputs": [
    {
     "data": {
      "text/html": [
       "<div>\n",
       "<style scoped>\n",
       "    .dataframe tbody tr th:only-of-type {\n",
       "        vertical-align: middle;\n",
       "    }\n",
       "\n",
       "    .dataframe tbody tr th {\n",
       "        vertical-align: top;\n",
       "    }\n",
       "\n",
       "    .dataframe thead th {\n",
       "        text-align: right;\n",
       "    }\n",
       "</style>\n",
       "<table border=\"1\" class=\"dataframe\">\n",
       "  <thead>\n",
       "    <tr style=\"text-align: right;\">\n",
       "      <th></th>\n",
       "      <th>assigned</th>\n",
       "      <th>first_revenue_date</th>\n",
       "      <th>date_created</th>\n",
       "      <th>age</th>\n",
       "      <th>assign_days</th>\n",
       "      <th>revenue</th>\n",
       "    </tr>\n",
       "  </thead>\n",
       "  <tbody>\n",
       "    <tr>\n",
       "      <th>0</th>\n",
       "      <td>1</td>\n",
       "      <td>None</td>\n",
       "      <td>2006-07-14 00:00:00.000000</td>\n",
       "      <td>3855</td>\n",
       "      <td>138</td>\n",
       "      <td>NaN</td>\n",
       "    </tr>\n",
       "    <tr>\n",
       "      <th>1</th>\n",
       "      <td>1</td>\n",
       "      <td>None</td>\n",
       "      <td>2006-08-02 00:00:00.000000</td>\n",
       "      <td>3836</td>\n",
       "      <td>138</td>\n",
       "      <td>NaN</td>\n",
       "    </tr>\n",
       "    <tr>\n",
       "      <th>2</th>\n",
       "      <td>1</td>\n",
       "      <td>None</td>\n",
       "      <td>2006-08-17 00:00:00.000000</td>\n",
       "      <td>3821</td>\n",
       "      <td>86</td>\n",
       "      <td>NaN</td>\n",
       "    </tr>\n",
       "    <tr>\n",
       "      <th>3</th>\n",
       "      <td>1</td>\n",
       "      <td>None</td>\n",
       "      <td>2006-09-12 00:00:00.000000</td>\n",
       "      <td>3795</td>\n",
       "      <td>138</td>\n",
       "      <td>NaN</td>\n",
       "    </tr>\n",
       "    <tr>\n",
       "      <th>4</th>\n",
       "      <td>1</td>\n",
       "      <td>None</td>\n",
       "      <td>2006-11-02 00:00:00.000000</td>\n",
       "      <td>3744</td>\n",
       "      <td>138</td>\n",
       "      <td>NaN</td>\n",
       "    </tr>\n",
       "    <tr>\n",
       "      <th>...</th>\n",
       "      <td>...</td>\n",
       "      <td>...</td>\n",
       "      <td>...</td>\n",
       "      <td>...</td>\n",
       "      <td>...</td>\n",
       "      <td>...</td>\n",
       "    </tr>\n",
       "    <tr>\n",
       "      <th>37074</th>\n",
       "      <td>1</td>\n",
       "      <td>2017-02-23 00:00:00.000000</td>\n",
       "      <td>2017-02-23 00:00:00.000000</td>\n",
       "      <td>-22</td>\n",
       "      <td>138</td>\n",
       "      <td>9643000.0</td>\n",
       "    </tr>\n",
       "    <tr>\n",
       "      <th>37075</th>\n",
       "      <td>1</td>\n",
       "      <td>None</td>\n",
       "      <td>2017-02-23 00:00:00.000000</td>\n",
       "      <td>-22</td>\n",
       "      <td>138</td>\n",
       "      <td>NaN</td>\n",
       "    </tr>\n",
       "    <tr>\n",
       "      <th>37076</th>\n",
       "      <td>1</td>\n",
       "      <td>None</td>\n",
       "      <td>2017-02-24 00:00:00.000000</td>\n",
       "      <td>-23</td>\n",
       "      <td>138</td>\n",
       "      <td>NaN</td>\n",
       "    </tr>\n",
       "    <tr>\n",
       "      <th>37077</th>\n",
       "      <td>1</td>\n",
       "      <td>None</td>\n",
       "      <td>2017-02-28 00:00:00.000000</td>\n",
       "      <td>-27</td>\n",
       "      <td>138</td>\n",
       "      <td>NaN</td>\n",
       "    </tr>\n",
       "    <tr>\n",
       "      <th>37078</th>\n",
       "      <td>1</td>\n",
       "      <td>None</td>\n",
       "      <td>2017-02-28 00:00:00.000000</td>\n",
       "      <td>-27</td>\n",
       "      <td>138</td>\n",
       "      <td>NaN</td>\n",
       "    </tr>\n",
       "  </tbody>\n",
       "</table>\n",
       "<p>37079 rows × 6 columns</p>\n",
       "</div>"
      ],
      "text/plain": [
       "       assigned          first_revenue_date                date_created   age  \\\n",
       "0             1                        None  2006-07-14 00:00:00.000000  3855   \n",
       "1             1                        None  2006-08-02 00:00:00.000000  3836   \n",
       "2             1                        None  2006-08-17 00:00:00.000000  3821   \n",
       "3             1                        None  2006-09-12 00:00:00.000000  3795   \n",
       "4             1                        None  2006-11-02 00:00:00.000000  3744   \n",
       "...         ...                         ...                         ...   ...   \n",
       "37074         1  2017-02-23 00:00:00.000000  2017-02-23 00:00:00.000000   -22   \n",
       "37075         1                        None  2017-02-23 00:00:00.000000   -22   \n",
       "37076         1                        None  2017-02-24 00:00:00.000000   -23   \n",
       "37077         1                        None  2017-02-28 00:00:00.000000   -27   \n",
       "37078         1                        None  2017-02-28 00:00:00.000000   -27   \n",
       "\n",
       "       assign_days    revenue  \n",
       "0              138        NaN  \n",
       "1              138        NaN  \n",
       "2               86        NaN  \n",
       "3              138        NaN  \n",
       "4              138        NaN  \n",
       "...            ...        ...  \n",
       "37074          138  9643000.0  \n",
       "37075          138        NaN  \n",
       "37076          138        NaN  \n",
       "37077          138        NaN  \n",
       "37078          138        NaN  \n",
       "\n",
       "[37079 rows x 6 columns]"
      ]
     },
     "execution_count": 24,
     "metadata": {},
     "output_type": "execute_result"
    }
   ],
   "source": [
    "q1 = \" SELECT * FROM df WHERE assigned == 1\"\n",
    "assigned_leads = ps.sqldf(q1, locals())\n",
    "#assigned_leads.drop('assigned', axis = 1, inplace = True)\n",
    "assigned_leads"
   ]
  },
  {
   "cell_type": "code",
   "execution_count": 25,
   "id": "fd1cb386",
   "metadata": {},
   "outputs": [
    {
     "data": {
      "text/plain": [
       "<AxesSubplot:>"
      ]
     },
     "execution_count": 25,
     "metadata": {},
     "output_type": "execute_result"
    },
    {
     "data": {
      "image/png": "[encoded data removed]",
      "text/plain": [
       "<Figure size 432x288 with 2 Axes>"
      ]
     },
     "metadata": {
      "needs_background": "light"
     },
     "output_type": "display_data"
    }
   ],
   "source": [
    "sns.heatmap(unassigned_leads.corr(), annot=True)"
   ]
  },
  {
   "cell_type": "markdown",
   "id": "7d35fa8f",
   "metadata": {},
   "source": [
    "#### Distribution of revenue for assigned and unassigned leads"
   ]
  },
  {
   "cell_type": "code",
   "execution_count": 26,
   "id": "41fc7b53",
   "metadata": {},
   "outputs": [
    {
     "data": {
      "image/png": "[encoded data removed]",
      "text/plain": [
       "<Figure size 864x360 with 1 Axes>"
      ]
     },
     "metadata": {
      "needs_background": "light"
     },
     "output_type": "display_data"
    }
   ],
   "source": [
    "pl.figure(figsize=(12,5))\n",
    "pl.title(\"Distribution of Revenue for assigned leads\")\n",
    "ax = sns.distplot(assigned_leads[\"revenue\"], color = 'm')"
   ]
  },
  {
   "cell_type": "code",
   "execution_count": 27,
   "id": "5088134c",
   "metadata": {},
   "outputs": [
    {
     "data": {
      "image/png": "[encoded data removed]",
      "text/plain": [
       "<Figure size 864x360 with 1 Axes>"
      ]
     },
     "metadata": {
      "needs_background": "light"
     },
     "output_type": "display_data"
    }
   ],
   "source": [
    "pl.figure(figsize=(12,5))\n",
    "pl.title(\"Distribution of Revenue for unassigned leads\")\n",
    "ax = sns.distplot(unassigned_leads[\"revenue\"], color = 'r')"
   ]
  },
  {
   "cell_type": "code",
   "execution_count": 28,
   "id": "3901ce78",
   "metadata": {},
   "outputs": [
    {
     "data": {
      "text/plain": [
       "<AxesSubplot:xlabel='assigned', ylabel='revenue'>"
      ]
     },
     "execution_count": 28,
     "metadata": {},
     "output_type": "execute_result"
    },
    {
     "data": {
      "image/png": "[encoded data removed]",
      "text/plain": [
       "<Figure size 432x288 with 1 Axes>"
      ]
     },
     "metadata": {
      "needs_background": "light"
     },
     "output_type": "display_data"
    }
   ],
   "source": [
    "sns.scatterplot(x=\"assigned\", y=\"revenue\", data=df, palette = 'magma')"
   ]
  },
  {
   "cell_type": "code",
   "execution_count": 29,
   "id": "3c17f4fc",
   "metadata": {},
   "outputs": [
    {
     "data": {
      "text/plain": [
       "<AxesSubplot:xlabel='age', ylabel='revenue'>"
      ]
     },
     "execution_count": 29,
     "metadata": {},
     "output_type": "execute_result"
    },
    {
     "data": {
      "image/png": "[encoded data removed]",
      "text/plain": [
       "<Figure size 432x288 with 1 Axes>"
      ]
     },
     "metadata": {
      "needs_background": "light"
     },
     "output_type": "display_data"
    }
   ],
   "source": [
    "sns.scatterplot(x=\"age\", y=\"revenue\", data=assigned_leads, palette = 'magma')"
   ]
  },
  {
   "cell_type": "code",
   "execution_count": 30,
   "id": "c0a2f17e",
   "metadata": {},
   "outputs": [
    {
     "data": {
      "text/plain": [
       "<AxesSubplot:xlabel='age', ylabel='revenue'>"
      ]
     },
     "execution_count": 30,
     "metadata": {},
     "output_type": "execute_result"
    },
    {
     "data": {
      "image/png": "[encoded data removed]",
      "text/plain": [
       "<Figure size 432x288 with 1 Axes>"
      ]
     },
     "metadata": {
      "needs_background": "light"
     },
     "output_type": "display_data"
    }
   ],
   "source": [
    "sns.scatterplot(x=\"age\", y=\"revenue\", data=unassigned_leads)"
   ]
  },
  {
   "cell_type": "code",
   "execution_count": 31,
   "id": "9b355fb6",
   "metadata": {},
   "outputs": [
    {
     "data": {
      "text/plain": [
       "0.1989130724696291"
      ]
     },
     "execution_count": 31,
     "metadata": {},
     "output_type": "execute_result"
    }
   ],
   "source": [
    "corr_age_revenue = df['age'].corr(df['revenue'])\n",
    "corr_age_revenue"
   ]
  },
  {
   "cell_type": "code",
   "execution_count": null,
   "id": "74fa12f8",
   "metadata": {},
   "outputs": [],
   "source": []
  }
 ],
 "metadata": {
  "kernelspec": {
   "display_name": "Python 3",
   "language": "python",
   "name": "python3"
  },
  "language_info": {
   "codemirror_mode": {
    "name": "ipython",
    "version": 3
   },
   "file_extension": ".py",
   "mimetype": "text/x-python",
   "name": "python",
   "nbconvert_exporter": "python",
   "pygments_lexer": "ipython3",
   "version": "3.8.8"
  }
 },
 "nbformat": 4,
 "nbformat_minor": 5
}
