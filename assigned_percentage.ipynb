{
 "cells": [
  {
   "cell_type": "code",
   "execution_count": 1,
   "id": "4c9fb2c4",
   "metadata": {},
   "outputs": [],
   "source": [
    "import pandas as pd\n",
    "import numpy as np\n",
    "import matplotlib.pyplot as plt\n",
    "%matplotlib inline\n",
    "import seaborn as sns\n",
    "import warnings\n",
    "warnings.filterwarnings('ignore')\n",
    "import pandasql as ps\n",
    "import functools\n",
    "from xgboost import XGBRegressor\n",
    "from sklearn.datasets import load_boston\n",
    "from sklearn.model_selection import train_test_split\n",
    "from sklearn.model_selection import cross_val_score, KFold\n",
    "from sklearn.metrics import mean_squared_error"
   ]
  },
  {
   "cell_type": "code",
   "execution_count": 2,
   "id": "db9d1673",
   "metadata": {},
   "outputs": [
    {
     "data": {
      "text/html": [
       "<div>\n",
       "<style scoped>\n",
       "    .dataframe tbody tr th:only-of-type {\n",
       "        vertical-align: middle;\n",
       "    }\n",
       "\n",
       "    .dataframe tbody tr th {\n",
       "        vertical-align: top;\n",
       "    }\n",
       "\n",
       "    .dataframe thead th {\n",
       "        text-align: right;\n",
       "    }\n",
       "</style>\n",
       "<table border=\"1\" class=\"dataframe\">\n",
       "  <thead>\n",
       "    <tr style=\"text-align: right;\">\n",
       "      <th></th>\n",
       "      <th>Unnamed: 0</th>\n",
       "      <th>advertiser_id</th>\n",
       "      <th>assigned</th>\n",
       "      <th>date_assignment_starts</th>\n",
       "      <th>date_assignment_ends</th>\n",
       "      <th>first_revenue_date</th>\n",
       "      <th>date_created</th>\n",
       "      <th>age</th>\n",
       "      <th>assign_days</th>\n",
       "      <th>revenue</th>\n",
       "    </tr>\n",
       "  </thead>\n",
       "  <tbody>\n",
       "    <tr>\n",
       "      <th>0</th>\n",
       "      <td>0</td>\n",
       "      <td>485</td>\n",
       "      <td>1</td>\n",
       "      <td>2017-02-01 00:00:00.000000</td>\n",
       "      <td>2017-06-19 12:12:37.888680</td>\n",
       "      <td>NaN</td>\n",
       "      <td>2006-07-14</td>\n",
       "      <td>3855</td>\n",
       "      <td>138</td>\n",
       "      <td>NaN</td>\n",
       "    </tr>\n",
       "    <tr>\n",
       "      <th>1</th>\n",
       "      <td>1</td>\n",
       "      <td>598</td>\n",
       "      <td>1</td>\n",
       "      <td>2017-02-01 00:00:00.000000</td>\n",
       "      <td>2017-06-19 12:12:37.888680</td>\n",
       "      <td>NaN</td>\n",
       "      <td>2006-08-02</td>\n",
       "      <td>3836</td>\n",
       "      <td>138</td>\n",
       "      <td>NaN</td>\n",
       "    </tr>\n",
       "    <tr>\n",
       "      <th>2</th>\n",
       "      <td>2</td>\n",
       "      <td>673</td>\n",
       "      <td>1</td>\n",
       "      <td>2017-02-01 00:00:00.000000</td>\n",
       "      <td>2017-04-28 15:36:30.000000</td>\n",
       "      <td>NaN</td>\n",
       "      <td>2006-08-17</td>\n",
       "      <td>3821</td>\n",
       "      <td>86</td>\n",
       "      <td>NaN</td>\n",
       "    </tr>\n",
       "    <tr>\n",
       "      <th>3</th>\n",
       "      <td>3</td>\n",
       "      <td>813</td>\n",
       "      <td>1</td>\n",
       "      <td>2017-02-01 00:00:00.000000</td>\n",
       "      <td>2017-06-19 12:12:37.888680</td>\n",
       "      <td>NaN</td>\n",
       "      <td>2006-09-12</td>\n",
       "      <td>3795</td>\n",
       "      <td>138</td>\n",
       "      <td>NaN</td>\n",
       "    </tr>\n",
       "    <tr>\n",
       "      <th>4</th>\n",
       "      <td>4</td>\n",
       "      <td>1132</td>\n",
       "      <td>1</td>\n",
       "      <td>2017-02-01 00:00:00.000000</td>\n",
       "      <td>2017-06-19 12:12:37.888680</td>\n",
       "      <td>NaN</td>\n",
       "      <td>2006-11-02</td>\n",
       "      <td>3744</td>\n",
       "      <td>138</td>\n",
       "      <td>NaN</td>\n",
       "    </tr>\n",
       "  </tbody>\n",
       "</table>\n",
       "</div>"
      ],
      "text/plain": [
       "   Unnamed: 0  advertiser_id  assigned      date_assignment_starts  \\\n",
       "0           0            485         1  2017-02-01 00:00:00.000000   \n",
       "1           1            598         1  2017-02-01 00:00:00.000000   \n",
       "2           2            673         1  2017-02-01 00:00:00.000000   \n",
       "3           3            813         1  2017-02-01 00:00:00.000000   \n",
       "4           4           1132         1  2017-02-01 00:00:00.000000   \n",
       "\n",
       "         date_assignment_ends first_revenue_date date_created   age  \\\n",
       "0  2017-06-19 12:12:37.888680                NaN   2006-07-14  3855   \n",
       "1  2017-06-19 12:12:37.888680                NaN   2006-08-02  3836   \n",
       "2  2017-04-28 15:36:30.000000                NaN   2006-08-17  3821   \n",
       "3  2017-06-19 12:12:37.888680                NaN   2006-09-12  3795   \n",
       "4  2017-06-19 12:12:37.888680                NaN   2006-11-02  3744   \n",
       "\n",
       "   assign_days  revenue  \n",
       "0          138      NaN  \n",
       "1          138      NaN  \n",
       "2           86      NaN  \n",
       "3          138      NaN  \n",
       "4          138      NaN  "
      ]
     },
     "execution_count": 2,
     "metadata": {},
     "output_type": "execute_result"
    }
   ],
   "source": [
    "df_path = r\"PS_Homework_data_set.csv\"\n",
    "df = pd.read_csv(df_path)\n",
    "df.head()"
   ]
  },
  {
   "cell_type": "code",
   "execution_count": 3,
   "id": "b4a4f510",
   "metadata": {},
   "outputs": [],
   "source": [
    "df.drop(['Unnamed: 0','advertiser_id','date_assignment_starts','date_assignment_ends'], axis=1, inplace=True)"
   ]
  },
  {
   "cell_type": "code",
   "execution_count": 4,
   "id": "63aae0d7",
   "metadata": {},
   "outputs": [],
   "source": [
    "# Converting columns containing dates into datetime type\n",
    "date_columns = ['first_revenue_date', 'date_created']\n",
    "\n",
    "for d in date_columns:\n",
    "    df[d] = df[d].astype('datetime64[ns]')"
   ]
  },
  {
   "cell_type": "code",
   "execution_count": 5,
   "id": "f3526687",
   "metadata": {},
   "outputs": [],
   "source": [
    "df['year_created'] = df['date_created'].dt.year\n",
    "#df['month_created'] = df['date_created'].dt.month\n",
    "#df.drop(['year_created','month_created'],axis = 1, inplace=True)"
   ]
  },
  {
   "cell_type": "code",
   "execution_count": 6,
   "id": "9dfc79af",
   "metadata": {},
   "outputs": [],
   "source": [
    "df.set_index('date_created', inplace=True)"
   ]
  },
  {
   "cell_type": "code",
   "execution_count": 7,
   "id": "6ec19c92",
   "metadata": {},
   "outputs": [
    {
     "data": {
      "text/html": [
       "<div>\n",
       "<style scoped>\n",
       "    .dataframe tbody tr th:only-of-type {\n",
       "        vertical-align: middle;\n",
       "    }\n",
       "\n",
       "    .dataframe tbody tr th {\n",
       "        vertical-align: top;\n",
       "    }\n",
       "\n",
       "    .dataframe thead th {\n",
       "        text-align: right;\n",
       "    }\n",
       "</style>\n",
       "<table border=\"1\" class=\"dataframe\">\n",
       "  <thead>\n",
       "    <tr style=\"text-align: right;\">\n",
       "      <th></th>\n",
       "      <th>assigned</th>\n",
       "      <th>first_revenue_date</th>\n",
       "      <th>age</th>\n",
       "      <th>assign_days</th>\n",
       "      <th>revenue</th>\n",
       "      <th>year_created</th>\n",
       "    </tr>\n",
       "    <tr>\n",
       "      <th>date_created</th>\n",
       "      <th></th>\n",
       "      <th></th>\n",
       "      <th></th>\n",
       "      <th></th>\n",
       "      <th></th>\n",
       "      <th></th>\n",
       "    </tr>\n",
       "  </thead>\n",
       "  <tbody>\n",
       "    <tr>\n",
       "      <th>2006-07-14</th>\n",
       "      <td>1</td>\n",
       "      <td>NaT</td>\n",
       "      <td>3855</td>\n",
       "      <td>138</td>\n",
       "      <td>NaN</td>\n",
       "      <td>2006</td>\n",
       "    </tr>\n",
       "    <tr>\n",
       "      <th>2006-08-02</th>\n",
       "      <td>1</td>\n",
       "      <td>NaT</td>\n",
       "      <td>3836</td>\n",
       "      <td>138</td>\n",
       "      <td>NaN</td>\n",
       "      <td>2006</td>\n",
       "    </tr>\n",
       "    <tr>\n",
       "      <th>2006-08-17</th>\n",
       "      <td>1</td>\n",
       "      <td>NaT</td>\n",
       "      <td>3821</td>\n",
       "      <td>86</td>\n",
       "      <td>NaN</td>\n",
       "      <td>2006</td>\n",
       "    </tr>\n",
       "    <tr>\n",
       "      <th>2006-09-12</th>\n",
       "      <td>1</td>\n",
       "      <td>NaT</td>\n",
       "      <td>3795</td>\n",
       "      <td>138</td>\n",
       "      <td>NaN</td>\n",
       "      <td>2006</td>\n",
       "    </tr>\n",
       "    <tr>\n",
       "      <th>2006-11-02</th>\n",
       "      <td>1</td>\n",
       "      <td>NaT</td>\n",
       "      <td>3744</td>\n",
       "      <td>138</td>\n",
       "      <td>NaN</td>\n",
       "      <td>2006</td>\n",
       "    </tr>\n",
       "    <tr>\n",
       "      <th>...</th>\n",
       "      <td>...</td>\n",
       "      <td>...</td>\n",
       "      <td>...</td>\n",
       "      <td>...</td>\n",
       "      <td>...</td>\n",
       "      <td>...</td>\n",
       "    </tr>\n",
       "    <tr>\n",
       "      <th>2017-02-23</th>\n",
       "      <td>1</td>\n",
       "      <td>2017-02-23</td>\n",
       "      <td>-22</td>\n",
       "      <td>138</td>\n",
       "      <td>9643000.0</td>\n",
       "      <td>2017</td>\n",
       "    </tr>\n",
       "    <tr>\n",
       "      <th>2017-02-23</th>\n",
       "      <td>1</td>\n",
       "      <td>NaT</td>\n",
       "      <td>-22</td>\n",
       "      <td>138</td>\n",
       "      <td>NaN</td>\n",
       "      <td>2017</td>\n",
       "    </tr>\n",
       "    <tr>\n",
       "      <th>2017-02-24</th>\n",
       "      <td>1</td>\n",
       "      <td>NaT</td>\n",
       "      <td>-23</td>\n",
       "      <td>138</td>\n",
       "      <td>NaN</td>\n",
       "      <td>2017</td>\n",
       "    </tr>\n",
       "    <tr>\n",
       "      <th>2017-02-28</th>\n",
       "      <td>1</td>\n",
       "      <td>NaT</td>\n",
       "      <td>-27</td>\n",
       "      <td>138</td>\n",
       "      <td>NaN</td>\n",
       "      <td>2017</td>\n",
       "    </tr>\n",
       "    <tr>\n",
       "      <th>2017-02-28</th>\n",
       "      <td>1</td>\n",
       "      <td>NaT</td>\n",
       "      <td>-27</td>\n",
       "      <td>138</td>\n",
       "      <td>NaN</td>\n",
       "      <td>2017</td>\n",
       "    </tr>\n",
       "  </tbody>\n",
       "</table>\n",
       "<p>77891 rows × 6 columns</p>\n",
       "</div>"
      ],
      "text/plain": [
       "              assigned first_revenue_date   age  assign_days    revenue  \\\n",
       "date_created                                                              \n",
       "2006-07-14           1                NaT  3855          138        NaN   \n",
       "2006-08-02           1                NaT  3836          138        NaN   \n",
       "2006-08-17           1                NaT  3821           86        NaN   \n",
       "2006-09-12           1                NaT  3795          138        NaN   \n",
       "2006-11-02           1                NaT  3744          138        NaN   \n",
       "...                ...                ...   ...          ...        ...   \n",
       "2017-02-23           1         2017-02-23   -22          138  9643000.0   \n",
       "2017-02-23           1                NaT   -22          138        NaN   \n",
       "2017-02-24           1                NaT   -23          138        NaN   \n",
       "2017-02-28           1                NaT   -27          138        NaN   \n",
       "2017-02-28           1                NaT   -27          138        NaN   \n",
       "\n",
       "              year_created  \n",
       "date_created                \n",
       "2006-07-14            2006  \n",
       "2006-08-02            2006  \n",
       "2006-08-17            2006  \n",
       "2006-09-12            2006  \n",
       "2006-11-02            2006  \n",
       "...                    ...  \n",
       "2017-02-23            2017  \n",
       "2017-02-23            2017  \n",
       "2017-02-24            2017  \n",
       "2017-02-28            2017  \n",
       "2017-02-28            2017  \n",
       "\n",
       "[77891 rows x 6 columns]"
      ]
     },
     "execution_count": 7,
     "metadata": {},
     "output_type": "execute_result"
    }
   ],
   "source": [
    "df"
   ]
  },
  {
   "cell_type": "code",
   "execution_count": 8,
   "id": "109571fd",
   "metadata": {},
   "outputs": [],
   "source": [
    "q_assign_count ='SELECT COUNT(\"assigned\"), year_created FROM df WHERE assigned == 1 GROUP BY year_created'\n",
    "q_unassign_count ='SELECT COUNT(\"assigned\"), year_created FROM df WHERE assigned == 0 GROUP BY year_created'\n",
    "assigned_count_yearwise = ps.sqldf(q_assign_count, locals())\n",
    "unassigned_count_yearwise = ps.sqldf(q_unassign_count, locals())\n"
   ]
  },
  {
   "cell_type": "code",
   "execution_count": 9,
   "id": "0f249e44",
   "metadata": {},
   "outputs": [],
   "source": [
    "df_assigned_perc = functools.reduce(lambda  left,right: pd.merge(left,right,on=['year_created'],\n",
    "                                            how='outer'), [assigned_count_yearwise, unassigned_count_yearwise]).fillna(0)"
   ]
  },
  {
   "cell_type": "code",
   "execution_count": 10,
   "id": "ef4d3350",
   "metadata": {},
   "outputs": [],
   "source": [
    "df_assigned_perc['yoy_assigned_ratio'] = (df_assigned_perc['COUNT(\"assigned\")_x']\n",
    "                                     /(df_assigned_perc['COUNT(\"assigned\")_x']\n",
    "                                       + df_assigned_perc['COUNT(\"assigned\")_y']))*100"
   ]
  },
  {
   "cell_type": "code",
   "execution_count": 11,
   "id": "7f328d13",
   "metadata": {},
   "outputs": [
    {
     "data": {
      "text/html": [
       "<div>\n",
       "<style scoped>\n",
       "    .dataframe tbody tr th:only-of-type {\n",
       "        vertical-align: middle;\n",
       "    }\n",
       "\n",
       "    .dataframe tbody tr th {\n",
       "        vertical-align: top;\n",
       "    }\n",
       "\n",
       "    .dataframe thead th {\n",
       "        text-align: right;\n",
       "    }\n",
       "</style>\n",
       "<table border=\"1\" class=\"dataframe\">\n",
       "  <thead>\n",
       "    <tr style=\"text-align: right;\">\n",
       "      <th></th>\n",
       "      <th>COUNT(\"assigned\")_x</th>\n",
       "      <th>year_created</th>\n",
       "      <th>COUNT(\"assigned\")_y</th>\n",
       "      <th>yoy_assigned_ratio</th>\n",
       "    </tr>\n",
       "  </thead>\n",
       "  <tbody>\n",
       "    <tr>\n",
       "      <th>0</th>\n",
       "      <td>10</td>\n",
       "      <td>2006</td>\n",
       "      <td>0.0</td>\n",
       "      <td>100.000000</td>\n",
       "    </tr>\n",
       "    <tr>\n",
       "      <th>1</th>\n",
       "      <td>12</td>\n",
       "      <td>2007</td>\n",
       "      <td>0.0</td>\n",
       "      <td>100.000000</td>\n",
       "    </tr>\n",
       "    <tr>\n",
       "      <th>2</th>\n",
       "      <td>19</td>\n",
       "      <td>2008</td>\n",
       "      <td>1.0</td>\n",
       "      <td>95.000000</td>\n",
       "    </tr>\n",
       "    <tr>\n",
       "      <th>3</th>\n",
       "      <td>66</td>\n",
       "      <td>2009</td>\n",
       "      <td>4.0</td>\n",
       "      <td>94.285714</td>\n",
       "    </tr>\n",
       "    <tr>\n",
       "      <th>4</th>\n",
       "      <td>118</td>\n",
       "      <td>2010</td>\n",
       "      <td>1.0</td>\n",
       "      <td>99.159664</td>\n",
       "    </tr>\n",
       "    <tr>\n",
       "      <th>5</th>\n",
       "      <td>189</td>\n",
       "      <td>2011</td>\n",
       "      <td>2.0</td>\n",
       "      <td>98.952880</td>\n",
       "    </tr>\n",
       "    <tr>\n",
       "      <th>6</th>\n",
       "      <td>2870</td>\n",
       "      <td>2012</td>\n",
       "      <td>18.0</td>\n",
       "      <td>99.376731</td>\n",
       "    </tr>\n",
       "    <tr>\n",
       "      <th>7</th>\n",
       "      <td>4049</td>\n",
       "      <td>2013</td>\n",
       "      <td>76.0</td>\n",
       "      <td>98.157576</td>\n",
       "    </tr>\n",
       "    <tr>\n",
       "      <th>8</th>\n",
       "      <td>5648</td>\n",
       "      <td>2014</td>\n",
       "      <td>106.0</td>\n",
       "      <td>98.157803</td>\n",
       "    </tr>\n",
       "    <tr>\n",
       "      <th>9</th>\n",
       "      <td>9260</td>\n",
       "      <td>2015</td>\n",
       "      <td>253.0</td>\n",
       "      <td>97.340481</td>\n",
       "    </tr>\n",
       "    <tr>\n",
       "      <th>10</th>\n",
       "      <td>9316</td>\n",
       "      <td>2016</td>\n",
       "      <td>748.0</td>\n",
       "      <td>92.567568</td>\n",
       "    </tr>\n",
       "    <tr>\n",
       "      <th>11</th>\n",
       "      <td>5522</td>\n",
       "      <td>2017</td>\n",
       "      <td>39603.0</td>\n",
       "      <td>12.237119</td>\n",
       "    </tr>\n",
       "  </tbody>\n",
       "</table>\n",
       "</div>"
      ],
      "text/plain": [
       "    COUNT(\"assigned\")_x  year_created  COUNT(\"assigned\")_y  yoy_assigned_ratio\n",
       "0                    10          2006                  0.0          100.000000\n",
       "1                    12          2007                  0.0          100.000000\n",
       "2                    19          2008                  1.0           95.000000\n",
       "3                    66          2009                  4.0           94.285714\n",
       "4                   118          2010                  1.0           99.159664\n",
       "5                   189          2011                  2.0           98.952880\n",
       "6                  2870          2012                 18.0           99.376731\n",
       "7                  4049          2013                 76.0           98.157576\n",
       "8                  5648          2014                106.0           98.157803\n",
       "9                  9260          2015                253.0           97.340481\n",
       "10                 9316          2016                748.0           92.567568\n",
       "11                 5522          2017              39603.0           12.237119"
      ]
     },
     "execution_count": 11,
     "metadata": {},
     "output_type": "execute_result"
    }
   ],
   "source": [
    "df_assigned_perc"
   ]
  },
  {
   "cell_type": "markdown",
   "id": "2757d0d6",
   "metadata": {},
   "source": [
    "#### Resampling data"
   ]
  },
  {
   "cell_type": "code",
   "execution_count": 12,
   "id": "d28a51e5",
   "metadata": {},
   "outputs": [],
   "source": [
    "df_yearly_revenue = df.resample('Y')[\"revenue\"].sum().to_frame()\n",
    "df_yearly_assignedDays = df.resample('Y')[\"assign_days\"].mean().to_frame()\n",
    "df_yearly_age = df.resample('Y')[\"age\"].mean().to_frame()"
   ]
  },
  {
   "cell_type": "code",
   "execution_count": 13,
   "id": "f19621fd",
   "metadata": {},
   "outputs": [],
   "source": [
    "data_frames = [df_yearly_revenue,df_yearly_assignedDays, df_yearly_age]"
   ]
  },
  {
   "cell_type": "code",
   "execution_count": 14,
   "id": "d5b62b3f",
   "metadata": {},
   "outputs": [],
   "source": [
    "df_workable = functools.reduce(lambda  left,right: pd.merge(left,right,on=['date_created'],\n",
    "                                            how='outer'), data_frames).fillna(0)"
   ]
  },
  {
   "cell_type": "code",
   "execution_count": 15,
   "id": "9105b949",
   "metadata": {},
   "outputs": [],
   "source": [
    "df_workable.reset_index(inplace=True)"
   ]
  },
  {
   "cell_type": "code",
   "execution_count": 16,
   "id": "e6d79296",
   "metadata": {},
   "outputs": [],
   "source": [
    "df_workable['year_created'] = df_workable['date_created'].dt.year"
   ]
  },
  {
   "cell_type": "code",
   "execution_count": 17,
   "id": "449d78b5",
   "metadata": {},
   "outputs": [
    {
     "data": {
      "text/html": [
       "<div>\n",
       "<style scoped>\n",
       "    .dataframe tbody tr th:only-of-type {\n",
       "        vertical-align: middle;\n",
       "    }\n",
       "\n",
       "    .dataframe tbody tr th {\n",
       "        vertical-align: top;\n",
       "    }\n",
       "\n",
       "    .dataframe thead th {\n",
       "        text-align: right;\n",
       "    }\n",
       "</style>\n",
       "<table border=\"1\" class=\"dataframe\">\n",
       "  <thead>\n",
       "    <tr style=\"text-align: right;\">\n",
       "      <th></th>\n",
       "      <th>date_created</th>\n",
       "      <th>revenue</th>\n",
       "      <th>assign_days</th>\n",
       "      <th>age</th>\n",
       "      <th>year_created</th>\n",
       "    </tr>\n",
       "  </thead>\n",
       "  <tbody>\n",
       "    <tr>\n",
       "      <th>0</th>\n",
       "      <td>2006-12-31</td>\n",
       "      <td>0.000000e+00</td>\n",
       "      <td>132.800000</td>\n",
       "      <td>3765.000000</td>\n",
       "      <td>2006</td>\n",
       "    </tr>\n",
       "    <tr>\n",
       "      <th>1</th>\n",
       "      <td>2007-12-31</td>\n",
       "      <td>7.071000e+08</td>\n",
       "      <td>138.000000</td>\n",
       "      <td>3480.583333</td>\n",
       "      <td>2007</td>\n",
       "    </tr>\n",
       "    <tr>\n",
       "      <th>2</th>\n",
       "      <td>2008-12-31</td>\n",
       "      <td>5.000000e+08</td>\n",
       "      <td>131.500000</td>\n",
       "      <td>3127.550000</td>\n",
       "      <td>2008</td>\n",
       "    </tr>\n",
       "    <tr>\n",
       "      <th>3</th>\n",
       "      <td>2009-12-31</td>\n",
       "      <td>1.863880e+08</td>\n",
       "      <td>118.071429</td>\n",
       "      <td>2713.742857</td>\n",
       "      <td>2009</td>\n",
       "    </tr>\n",
       "    <tr>\n",
       "      <th>4</th>\n",
       "      <td>2010-12-31</td>\n",
       "      <td>9.933870e+08</td>\n",
       "      <td>114.815126</td>\n",
       "      <td>2398.605042</td>\n",
       "      <td>2010</td>\n",
       "    </tr>\n",
       "    <tr>\n",
       "      <th>5</th>\n",
       "      <td>2011-12-31</td>\n",
       "      <td>4.445733e+09</td>\n",
       "      <td>121.643979</td>\n",
       "      <td>2034.973822</td>\n",
       "      <td>2011</td>\n",
       "    </tr>\n",
       "    <tr>\n",
       "      <th>6</th>\n",
       "      <td>2012-12-31</td>\n",
       "      <td>1.102868e+10</td>\n",
       "      <td>131.961911</td>\n",
       "      <td>1605.822715</td>\n",
       "      <td>2012</td>\n",
       "    </tr>\n",
       "    <tr>\n",
       "      <th>7</th>\n",
       "      <td>2013-12-31</td>\n",
       "      <td>9.579315e+09</td>\n",
       "      <td>127.228848</td>\n",
       "      <td>1309.824970</td>\n",
       "      <td>2013</td>\n",
       "    </tr>\n",
       "    <tr>\n",
       "      <th>8</th>\n",
       "      <td>2014-12-31</td>\n",
       "      <td>2.088561e+10</td>\n",
       "      <td>124.190650</td>\n",
       "      <td>942.147028</td>\n",
       "      <td>2014</td>\n",
       "    </tr>\n",
       "    <tr>\n",
       "      <th>9</th>\n",
       "      <td>2015-12-31</td>\n",
       "      <td>2.589168e+10</td>\n",
       "      <td>121.086093</td>\n",
       "      <td>578.382529</td>\n",
       "      <td>2015</td>\n",
       "    </tr>\n",
       "    <tr>\n",
       "      <th>10</th>\n",
       "      <td>2016-12-31</td>\n",
       "      <td>2.770638e+10</td>\n",
       "      <td>109.888315</td>\n",
       "      <td>213.607313</td>\n",
       "      <td>2016</td>\n",
       "    </tr>\n",
       "    <tr>\n",
       "      <th>11</th>\n",
       "      <td>2017-12-31</td>\n",
       "      <td>6.057263e+10</td>\n",
       "      <td>120.895380</td>\n",
       "      <td>0.515922</td>\n",
       "      <td>2017</td>\n",
       "    </tr>\n",
       "  </tbody>\n",
       "</table>\n",
       "</div>"
      ],
      "text/plain": [
       "   date_created       revenue  assign_days          age  year_created\n",
       "0    2006-12-31  0.000000e+00   132.800000  3765.000000          2006\n",
       "1    2007-12-31  7.071000e+08   138.000000  3480.583333          2007\n",
       "2    2008-12-31  5.000000e+08   131.500000  3127.550000          2008\n",
       "3    2009-12-31  1.863880e+08   118.071429  2713.742857          2009\n",
       "4    2010-12-31  9.933870e+08   114.815126  2398.605042          2010\n",
       "5    2011-12-31  4.445733e+09   121.643979  2034.973822          2011\n",
       "6    2012-12-31  1.102868e+10   131.961911  1605.822715          2012\n",
       "7    2013-12-31  9.579315e+09   127.228848  1309.824970          2013\n",
       "8    2014-12-31  2.088561e+10   124.190650   942.147028          2014\n",
       "9    2015-12-31  2.589168e+10   121.086093   578.382529          2015\n",
       "10   2016-12-31  2.770638e+10   109.888315   213.607313          2016\n",
       "11   2017-12-31  6.057263e+10   120.895380     0.515922          2017"
      ]
     },
     "execution_count": 17,
     "metadata": {},
     "output_type": "execute_result"
    }
   ],
   "source": [
    "df_workable"
   ]
  },
  {
   "cell_type": "code",
   "execution_count": 18,
   "id": "f0f9ff55",
   "metadata": {},
   "outputs": [],
   "source": [
    "df_workable = functools.reduce(lambda  left,right: pd.merge(left,right,on=['year_created'],\n",
    "                                            how='outer'), [df_workable,df_assigned_perc]).fillna(0)"
   ]
  },
  {
   "cell_type": "code",
   "execution_count": 19,
   "id": "aeccab11",
   "metadata": {},
   "outputs": [],
   "source": [
    "df_workable.drop(['year_created','COUNT(\"assigned\")_x','COUNT(\"assigned\")_y'], axis = 1, inplace=True)"
   ]
  },
  {
   "cell_type": "code",
   "execution_count": 20,
   "id": "42c49064",
   "metadata": {},
   "outputs": [
    {
     "data": {
      "text/html": [
       "<div>\n",
       "<style scoped>\n",
       "    .dataframe tbody tr th:only-of-type {\n",
       "        vertical-align: middle;\n",
       "    }\n",
       "\n",
       "    .dataframe tbody tr th {\n",
       "        vertical-align: top;\n",
       "    }\n",
       "\n",
       "    .dataframe thead th {\n",
       "        text-align: right;\n",
       "    }\n",
       "</style>\n",
       "<table border=\"1\" class=\"dataframe\">\n",
       "  <thead>\n",
       "    <tr style=\"text-align: right;\">\n",
       "      <th></th>\n",
       "      <th>date_created</th>\n",
       "      <th>revenue</th>\n",
       "      <th>assign_days</th>\n",
       "      <th>age</th>\n",
       "      <th>yoy_assigned_ratio</th>\n",
       "    </tr>\n",
       "  </thead>\n",
       "  <tbody>\n",
       "    <tr>\n",
       "      <th>0</th>\n",
       "      <td>2006-12-31</td>\n",
       "      <td>0.000000e+00</td>\n",
       "      <td>132.800000</td>\n",
       "      <td>3765.000000</td>\n",
       "      <td>100.000000</td>\n",
       "    </tr>\n",
       "    <tr>\n",
       "      <th>1</th>\n",
       "      <td>2007-12-31</td>\n",
       "      <td>7.071000e+08</td>\n",
       "      <td>138.000000</td>\n",
       "      <td>3480.583333</td>\n",
       "      <td>100.000000</td>\n",
       "    </tr>\n",
       "    <tr>\n",
       "      <th>2</th>\n",
       "      <td>2008-12-31</td>\n",
       "      <td>5.000000e+08</td>\n",
       "      <td>131.500000</td>\n",
       "      <td>3127.550000</td>\n",
       "      <td>95.000000</td>\n",
       "    </tr>\n",
       "    <tr>\n",
       "      <th>3</th>\n",
       "      <td>2009-12-31</td>\n",
       "      <td>1.863880e+08</td>\n",
       "      <td>118.071429</td>\n",
       "      <td>2713.742857</td>\n",
       "      <td>94.285714</td>\n",
       "    </tr>\n",
       "    <tr>\n",
       "      <th>4</th>\n",
       "      <td>2010-12-31</td>\n",
       "      <td>9.933870e+08</td>\n",
       "      <td>114.815126</td>\n",
       "      <td>2398.605042</td>\n",
       "      <td>99.159664</td>\n",
       "    </tr>\n",
       "    <tr>\n",
       "      <th>5</th>\n",
       "      <td>2011-12-31</td>\n",
       "      <td>4.445733e+09</td>\n",
       "      <td>121.643979</td>\n",
       "      <td>2034.973822</td>\n",
       "      <td>98.952880</td>\n",
       "    </tr>\n",
       "    <tr>\n",
       "      <th>6</th>\n",
       "      <td>2012-12-31</td>\n",
       "      <td>1.102868e+10</td>\n",
       "      <td>131.961911</td>\n",
       "      <td>1605.822715</td>\n",
       "      <td>99.376731</td>\n",
       "    </tr>\n",
       "    <tr>\n",
       "      <th>7</th>\n",
       "      <td>2013-12-31</td>\n",
       "      <td>9.579315e+09</td>\n",
       "      <td>127.228848</td>\n",
       "      <td>1309.824970</td>\n",
       "      <td>98.157576</td>\n",
       "    </tr>\n",
       "    <tr>\n",
       "      <th>8</th>\n",
       "      <td>2014-12-31</td>\n",
       "      <td>2.088561e+10</td>\n",
       "      <td>124.190650</td>\n",
       "      <td>942.147028</td>\n",
       "      <td>98.157803</td>\n",
       "    </tr>\n",
       "    <tr>\n",
       "      <th>9</th>\n",
       "      <td>2015-12-31</td>\n",
       "      <td>2.589168e+10</td>\n",
       "      <td>121.086093</td>\n",
       "      <td>578.382529</td>\n",
       "      <td>97.340481</td>\n",
       "    </tr>\n",
       "    <tr>\n",
       "      <th>10</th>\n",
       "      <td>2016-12-31</td>\n",
       "      <td>2.770638e+10</td>\n",
       "      <td>109.888315</td>\n",
       "      <td>213.607313</td>\n",
       "      <td>92.567568</td>\n",
       "    </tr>\n",
       "    <tr>\n",
       "      <th>11</th>\n",
       "      <td>2017-12-31</td>\n",
       "      <td>6.057263e+10</td>\n",
       "      <td>120.895380</td>\n",
       "      <td>0.515922</td>\n",
       "      <td>12.237119</td>\n",
       "    </tr>\n",
       "  </tbody>\n",
       "</table>\n",
       "</div>"
      ],
      "text/plain": [
       "   date_created       revenue  assign_days          age  yoy_assigned_ratio\n",
       "0    2006-12-31  0.000000e+00   132.800000  3765.000000          100.000000\n",
       "1    2007-12-31  7.071000e+08   138.000000  3480.583333          100.000000\n",
       "2    2008-12-31  5.000000e+08   131.500000  3127.550000           95.000000\n",
       "3    2009-12-31  1.863880e+08   118.071429  2713.742857           94.285714\n",
       "4    2010-12-31  9.933870e+08   114.815126  2398.605042           99.159664\n",
       "5    2011-12-31  4.445733e+09   121.643979  2034.973822           98.952880\n",
       "6    2012-12-31  1.102868e+10   131.961911  1605.822715           99.376731\n",
       "7    2013-12-31  9.579315e+09   127.228848  1309.824970           98.157576\n",
       "8    2014-12-31  2.088561e+10   124.190650   942.147028           98.157803\n",
       "9    2015-12-31  2.589168e+10   121.086093   578.382529           97.340481\n",
       "10   2016-12-31  2.770638e+10   109.888315   213.607313           92.567568\n",
       "11   2017-12-31  6.057263e+10   120.895380     0.515922           12.237119"
      ]
     },
     "execution_count": 20,
     "metadata": {},
     "output_type": "execute_result"
    }
   ],
   "source": [
    "df_workable"
   ]
  },
  {
   "cell_type": "code",
   "execution_count": 21,
   "id": "26e36b83",
   "metadata": {},
   "outputs": [],
   "source": [
    "df_workable.set_index(['date_created'], inplace=True)"
   ]
  },
  {
   "cell_type": "code",
   "execution_count": 22,
   "id": "2007d009",
   "metadata": {},
   "outputs": [
    {
     "data": {
      "text/plain": [
       "<AxesSubplot:>"
      ]
     },
     "execution_count": 22,
     "metadata": {},
     "output_type": "execute_result"
    },
    {
     "data": {
      "image/png": "[encoded data removed]",
      "text/plain": [
       "<Figure size 432x288 with 2 Axes>"
      ]
     },
     "metadata": {
      "needs_background": "light"
     },
     "output_type": "display_data"
    }
   ],
   "source": [
    "sns.heatmap(df_workable.corr(),annot=True)"
   ]
  },
  {
   "cell_type": "markdown",
   "id": "6c765b41",
   "metadata": {},
   "source": [
    "### We can see that \"assigned ratio\" has a strong correlation of -0.84 with the target variable \"revenue\""
   ]
  },
  {
   "cell_type": "code",
   "execution_count": 23,
   "id": "741e8260",
   "metadata": {},
   "outputs": [
    {
     "data": {
      "text/plain": [
       "<seaborn.axisgrid.PairGrid at 0x2cf90f08ca0>"
      ]
     },
     "execution_count": 23,
     "metadata": {},
     "output_type": "execute_result"
    },
    {
     "data": {
      "image/png": "[encoded data removed]",
      "text/plain": [
       "<Figure size 720x720 with 20 Axes>"
      ]
     },
     "metadata": {
      "needs_background": "light"
     },
     "output_type": "display_data"
    }
   ],
   "source": [
    "sns.pairplot(df_workable)"
   ]
  },
  {
   "cell_type": "code",
   "execution_count": 24,
   "id": "82e27a83",
   "metadata": {},
   "outputs": [
    {
     "data": {
      "text/plain": [
       "<AxesSubplot:xlabel='yoy_assigned_ratio', ylabel='revenue'>"
      ]
     },
     "execution_count": 24,
     "metadata": {},
     "output_type": "execute_result"
    },
    {
     "data": {
      "image/png": "[encoded data removed]",
      "text/plain": [
       "<Figure size 432x288 with 1 Axes>"
      ]
     },
     "metadata": {
      "needs_background": "light"
     },
     "output_type": "display_data"
    }
   ],
   "source": [
    "sns.scatterplot(x='yoy_assigned_ratio',y ='revenue', data = df_workable)"
   ]
  },
  {
   "cell_type": "markdown",
   "id": "9ede9f11",
   "metadata": {},
   "source": [
    "High Assigned lead percentage is generating more revenues"
   ]
  },
  {
   "cell_type": "code",
   "execution_count": 25,
   "id": "8e6adcfb",
   "metadata": {},
   "outputs": [
    {
     "data": {
      "text/plain": [
       "<AxesSubplot:xlabel='date_created'>"
      ]
     },
     "execution_count": 25,
     "metadata": {},
     "output_type": "execute_result"
    },
    {
     "data": {
      "image/png": "[encoded data removed]",
      "text/plain": [
       "<Figure size 432x288 with 1 Axes>"
      ]
     },
     "metadata": {
      "needs_background": "light"
     },
     "output_type": "display_data"
    }
   ],
   "source": [
    "df_workable['revenue'].plot(linewidth=2)"
   ]
  },
  {
   "cell_type": "markdown",
   "id": "78dbfbee",
   "metadata": {},
   "source": [
    "Revenue is increasing year on year"
   ]
  },
  {
   "cell_type": "code",
   "execution_count": 26,
   "id": "4b1ececc",
   "metadata": {},
   "outputs": [
    {
     "data": {
      "text/plain": [
       "<AxesSubplot:xlabel='date_created'>"
      ]
     },
     "execution_count": 26,
     "metadata": {},
     "output_type": "execute_result"
    },
    {
     "data": {
      "image/png": "[encoded data removed]",
      "text/plain": [
       "<Figure size 432x288 with 1 Axes>"
      ]
     },
     "metadata": {
      "needs_background": "light"
     },
     "output_type": "display_data"
    }
   ],
   "source": [
    "df_workable['yoy_assigned_ratio'].plot(linewidth=2)"
   ]
  },
  {
   "cell_type": "markdown",
   "id": "5d380019",
   "metadata": {},
   "source": [
    "Assigned ratio has significantly fell in the end of the year 2015"
   ]
  },
  {
   "cell_type": "code",
   "execution_count": 27,
   "id": "71d1b9eb",
   "metadata": {},
   "outputs": [
    {
     "data": {
      "text/plain": [
       "<AxesSubplot:xlabel='date_created'>"
      ]
     },
     "execution_count": 27,
     "metadata": {},
     "output_type": "execute_result"
    },
    {
     "data": {
      "image/png": "[encoded data removed]",
      "text/plain": [
       "<Figure size 432x288 with 1 Axes>"
      ]
     },
     "metadata": {
      "needs_background": "light"
     },
     "output_type": "display_data"
    }
   ],
   "source": [
    "df_workable['assign_days'].plot(linewidth=2)"
   ]
  },
  {
   "cell_type": "markdown",
   "id": "4b892b1e",
   "metadata": {},
   "source": [
    "A bearish trend can been seen with the assign days. Number of assigned days is falling yearly though there was a rise after the year 2010 till the year 2012."
   ]
  },
  {
   "cell_type": "code",
   "execution_count": 28,
   "id": "328c8be0",
   "metadata": {},
   "outputs": [],
   "source": [
    "# Taking revenue as the target varianle and yoy_assigned_ratio as input feature to know its impact on revenue\n",
    "X = df_workable['yoy_assigned_ratio']\n",
    "y = df_workable['revenue']"
   ]
  },
  {
   "cell_type": "code",
   "execution_count": 29,
   "id": "cd63d290",
   "metadata": {},
   "outputs": [
    {
     "data": {
      "text/plain": [
       "-0.8371081148221126"
      ]
     },
     "execution_count": 29,
     "metadata": {},
     "output_type": "execute_result"
    }
   ],
   "source": [
    "X.corr(y)"
   ]
  },
  {
   "cell_type": "markdown",
   "id": "4e414b86",
   "metadata": {},
   "source": [
    "### We can see that \"assigned ratio\" has a strong correlation of -0.84 with the target variable \"revenue\""
   ]
  }
 ],
 "metadata": {
  "kernelspec": {
   "display_name": "Python 3",
   "language": "python",
   "name": "python3"
  },
  "language_info": {
   "codemirror_mode": {
    "name": "ipython",
    "version": 3
   },
   "file_extension": ".py",
   "mimetype": "text/x-python",
   "name": "python",
   "nbconvert_exporter": "python",
   "pygments_lexer": "ipython3",
   "version": "3.8.8"
  }
 },
 "nbformat": 4,
 "nbformat_minor": 5
}
